{
 "cells": [
  {
   "cell_type": "markdown",
   "metadata": {},
   "source": [
    "gggg"
   ]
  }
 ],
 "metadata": {
  "@webio": {
   "lastCommId": "4C4EB1A1AF64406DBC6E429A22221021",
   "lastKernelId": "25618465-56d7-4d67-a959-937a448c4aa8"
  },
  "front-matter": {
   "date": "2018-12-15",
   "subtitle": "test",
   "title": "testtest"
  },
  "hugo-jupyter": {
   "render-to": "content/posts/"
  },
  "kernelspec": {
   "display_name": "Python 3",
   "language": "python",
   "name": "python3"
  },
  "language_info": {
   "codemirror_mode": {
    "name": "ipython",
    "version": 3
   },
   "file_extension": ".py",
   "mimetype": "text/x-python",
   "name": "python",
   "nbconvert_exporter": "python",
   "pygments_lexer": "ipython3",
   "version": "3.6.6"
  }
 },
 "nbformat": 4,
 "nbformat_minor": 2
}
