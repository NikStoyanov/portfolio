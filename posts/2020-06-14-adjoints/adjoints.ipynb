{
 "cells": [
  {
   "cell_type": "markdown",
   "metadata": {},
   "source": [
    "# Understanding adjoints"
   ]
  },
  {
   "cell_type": "markdown",
   "metadata": {},
   "source": [
    "Writing up my PhD is a pain mainly because of the detailed explanations that need to be provided. A technique I used throughout my project is to solve parameter optimization problems using the adjoint method. I learned the technique and used it, but never really _got_ it until reading an amazing paper. This post represents my notes and Julia implementation of the work detailed in https://math.mit.edu/~stevenj/18.336/adjoint.pdf by Steven G. Johnson which is by far the best description I have read on Adjoint methods. I am really grateful that I typed up these notes some time ago which makes my writing life easier... I hope they help someone to implement similar problems in Julia."
   ]
  },
  {
   "cell_type": "markdown",
   "metadata": {},
   "source": [
    "## Problem"
   ]
  },
  {
   "cell_type": "markdown",
   "metadata": {},
   "source": [
    "This work implements the solution to the optimization problem for the Schrödinger eigenequation described in https://math.mit.edu/~stevenj/18.336/adjoint.pdf by Steven G. Johnson."
   ]
  },
  {
   "cell_type": "markdown",
   "metadata": {},
   "source": [
    "##  Boilerplate"
   ]
  },
  {
   "cell_type": "markdown",
   "metadata": {},
   "source": [
    "Let's setup the Julia environment. Here I will use the [Optim.jl](https://github.com/JuliaNLSolvers/Optim.jl) to solve the optimization problem and [IterativeSolvers.jl](https://github.com/JuliaMath/IterativeSolvers.jl) which provides the conjugate gradient method to solve the matrix equations."
   ]
  },
  {
   "cell_type": "code",
   "execution_count": 1,
   "metadata": {},
   "outputs": [
    {
     "name": "stdout",
     "output_type": "stream",
     "text": [
      "\u001b[32m\u001b[1mActivating\u001b[22m\u001b[39m environment at `~/git/Personal_Website/content/post/2020-06-14-adjoints/Project.toml`\n"
     ]
    }
   ],
   "source": [
    "using Pkg; Pkg.activate(\".\")"
   ]
  },
  {
   "cell_type": "code",
   "execution_count": 2,
   "metadata": {},
   "outputs": [],
   "source": [
    "using Optim, Plots, LineSearches, SparseArrays, LinearAlgebra, IterativeSolvers"
   ]
  },
  {
   "cell_type": "markdown",
   "metadata": {},
   "source": [
    "## The Adjoint Method"
   ]
  },
  {
   "cell_type": "markdown",
   "metadata": {},
   "source": [
    "I recommend you read Steven G. Johnson's [paper](https://math.mit.edu/~stevenj/18.336/adjoint.pdf ). The descriptions here are taken from that paper and summarized."
   ]
  },
  {
   "cell_type": "markdown",
   "metadata": {},
   "source": [
    "Given a set of equations M parametrized by a parameter P we optimize a function $g(x, p)$ on some space $x$. For optimizations we need the gradient $\\frac{dg}{dp}$. The adjoint method rewrites the equation such that the we get a constant cost, it does not depend on the size of $P$ which is great if the dimension of the parameter space is large."
   ]
  },
  {
   "cell_type": "markdown",
   "metadata": {},
   "source": [
    "The change in the equation is shown next. Given $Ax=b$ with $A$ and $b$ parametrized by $P$:"
   ]
  },
  {
   "cell_type": "markdown",
   "metadata": {},
   "source": [
    "$$\n",
    "\\begin{equation}\n",
    "\\frac{dg}{dp} = g_p + g_x x_p\n",
    "\\end{equation}\n",
    "$$"
   ]
  },
  {
   "cell_type": "markdown",
   "metadata": {},
   "source": [
    "Where $x$ is $MxM$ with $g_p$ being a Jacobian of size $1xP$, $g_x$ being a Jacobian on size $1xM$, $x_p$ of size $MxP$. The difficulty comes from plugging in $x_p$."
   ]
  },
  {
   "cell_type": "markdown",
   "metadata": {},
   "source": [
    "To get $x_p$ we differentiate $Ax=b$ by $p_i$ for each parameter to get:"
   ]
  },
  {
   "cell_type": "markdown",
   "metadata": {},
   "source": [
    "$$\n",
    "\\begin{equation}\n",
    "x_{pi} = A^{-1} (b_{pi} - A_{pi}x)\n",
    "\\end{equation}\n",
    "$$"
   ]
  },
  {
   "cell_type": "markdown",
   "metadata": {},
   "source": [
    "Plugging Equation 2 in Equation 1 we get:"
   ]
  },
  {
   "cell_type": "markdown",
   "metadata": {},
   "source": [
    "$$\n",
    "\\begin{equation}\n",
    "g_x x_p = g_x A^{-1} (b_p - A_p x) = [g_x A^{-1}] (b_p - A_p x)\n",
    "\\end {equation}\n",
    "$$"
   ]
  },
  {
   "cell_type": "markdown",
   "metadata": {},
   "source": [
    "With the terms $g_x A^{-1}$ of size $1xM$ and $b_p - A_p x$ of size $MxP$. The difficulty being is that the computational cost is $\\mathcal{O}(M^2P)$."
   ]
  },
  {
   "cell_type": "markdown",
   "metadata": {},
   "source": [
    "To make the problem easier we can rearrange the equation. If we multiply by $\\lambda^T = g_x A^{-1}$ and from Equation 1 and Equation 2 we get:"
   ]
  },
  {
   "cell_type": "markdown",
   "metadata": {},
   "source": [
    "$$\n",
    "\\begin{equation}\n",
    "\\frac{dg}{dp} = g_p - \\lambda^T (A_p x - b_p)\n",
    "\\end{equation}\n",
    "$$"
   ]
  },
  {
   "cell_type": "markdown",
   "metadata": {},
   "source": [
    "Where the multiplication now gives a tight bound $\\Theta(MP)$."
   ]
  },
  {
   "cell_type": "markdown",
   "metadata": {},
   "source": [
    "## Eigenequation"
   ]
  },
  {
   "cell_type": "markdown",
   "metadata": {},
   "source": [
    "The equation for the problem in the paper is an eigenequation so we need to also follow the section which derives this case. Equations of this type are given by:"
   ]
  },
  {
   "cell_type": "markdown",
   "metadata": {},
   "source": [
    "$$\n",
    "\\begin{equation}\n",
    "Ax = \\alpha x\n",
    "\\end{equation}\n",
    "$$"
   ]
  },
  {
   "cell_type": "markdown",
   "metadata": {},
   "source": [
    "In block form we get:"
   ]
  },
  {
   "cell_type": "markdown",
   "metadata": {},
   "source": [
    "$$\n",
    "\\begin{equation}\n",
    "\\hat{x} = \\begin{bmatrix} x \\\\ \\alpha \\end{bmatrix}\n",
    "\\end{equation}\n",
    "$$"
   ]
  },
  {
   "cell_type": "markdown",
   "metadata": {},
   "source": [
    "And for $f = Ax - \\alpha x$:"
   ]
  },
  {
   "cell_type": "markdown",
   "metadata": {},
   "source": [
    "$$\n",
    "\\begin{equation}\n",
    "\\hat{f} = \\begin{bmatrix} f \\\\ x^T x - 1 \\end{bmatrix}\n",
    "\\end{equation}\n",
    "$$"
   ]
  },
  {
   "cell_type": "markdown",
   "metadata": {},
   "source": [
    "Using the same substitution for $\\lambda$ we get:"
   ]
  },
  {
   "cell_type": "markdown",
   "metadata": {},
   "source": [
    "$$\n",
    "\\begin{equation}\n",
    "\\hat{\\lambda} = \\begin{bmatrix} \\lambda \\\\ \\beta \\end{bmatrix}\n",
    "\\end{equation}\n",
    "$$"
   ]
  },
  {
   "cell_type": "markdown",
   "metadata": {},
   "source": [
    "Putting this together:"
   ]
  },
  {
   "cell_type": "markdown",
   "metadata": {},
   "source": [
    "$$\n",
    "\\begin{equation}\n",
    "(A - \\alpha) \\lambda = g_x^T - 2\\beta x\n",
    "\\end{equation}\n",
    "$$"
   ]
  },
  {
   "cell_type": "markdown",
   "metadata": {},
   "source": [
    "$$\n",
    "\\begin{equation}\n",
    "-x^T \\lambda = g_a\n",
    "\\end{equation}\n",
    "$$"
   ]
  },
  {
   "cell_type": "markdown",
   "metadata": {},
   "source": [
    "## Schrödinger eigenequation"
   ]
  },
  {
   "cell_type": "markdown",
   "metadata": {},
   "source": [
    "The Schrödinger eigenequation is given by:"
   ]
  },
  {
   "cell_type": "markdown",
   "metadata": {},
   "source": [
    "$$\n",
    "\\begin{equation}\n",
    "\\left(-\\frac{d^2}{dx^2} + V(x)\\right) \\psi(x) = E\\psi(x)\n",
    "\\end{equation}\n",
    "$$"
   ]
  },
  {
   "cell_type": "markdown",
   "metadata": {},
   "source": [
    "With periodic boundary conditions $\\psi(x+2) = \\psi(x)$ over a domain $x \\in [-1, 1]$."
   ]
  },
  {
   "cell_type": "markdown",
   "metadata": {},
   "source": [
    "In direct solving we are given $V(x)$ and solve for $\\psi$ and $E$, in parameter optimization (inverse) we are looking for $V(x)$ that minimizes some cost. In this case the cost is:"
   ]
  },
  {
   "cell_type": "markdown",
   "metadata": {},
   "source": [
    "$$\n",
    "\\begin{equation}\n",
    "g = \\int_{-1}^{1} |\\psi(x) - \\psi_0 (x)|^2 dx\n",
    "\\end{equation}\n",
    "$$"
   ]
  },
  {
   "cell_type": "markdown",
   "metadata": {},
   "source": [
    "To solve the optimization problem we will:\n",
    "- use finite difference method with central differencing to discretise the domain\n",
    "- normalize $\\psi$ to $\\psi \\psi^T = 1$\n",
    "- project to $P = 1 - \\psi \\psi^T$\n",
    "- solve the adjoint $\\frac{dg}{dV} = \\lambda \\psi$\n",
    "- solve $Ax = b$ for the smallest eigenvalue using Arnoldi iterations\n",
    "- optimize $g(\\psi, V) = (\\psi - \\psi_0)^T (\\psi - \\psi_0) \\Delta x$ using the Conjugate Gradient method\n",
    "- update the prediction $V(x)$ using the least-squares error against precalculated target data"
   ]
  },
  {
   "cell_type": "markdown",
   "metadata": {},
   "source": [
    "In other cases the precalculated target data can come from experimental measurements, recorded data etc."
   ]
  },
  {
   "cell_type": "markdown",
   "metadata": {},
   "source": [
    "## Implementation"
   ]
  },
  {
   "cell_type": "markdown",
   "metadata": {},
   "source": [
    "We setup the domain and the finite difference discretisation."
   ]
  },
  {
   "cell_type": "code",
   "execution_count": 3,
   "metadata": {},
   "outputs": [
    {
     "data": {
      "text/plain": [
       "0.020000000000000018"
      ]
     },
     "execution_count": 3,
     "metadata": {},
     "output_type": "execute_result"
    }
   ],
   "source": [
    "const m = 0.02\n",
    "const x = [i for i in -1:m:1]\n",
    "const N = length(x)\n",
    "const dx = x[2] - x[1]"
   ]
  },
  {
   "cell_type": "markdown",
   "metadata": {},
   "source": [
    "We pick a function to generate the target data. This will later be used to compute the cost function and in inverse problems this is not known i.e. we are trying to backcalculate it. In my case such data comes from physical tests using thermocouples (very different than the example here but it can be solved with the same approach)."
   ]
  },
  {
   "cell_type": "code",
   "execution_count": 4,
   "metadata": {},
   "outputs": [],
   "source": [
    "# Target solution, normalize and pick sign.\n",
    "Ψ0 = 1.0 .+ sin.(π .* x .+ cos.(3 * π .* x))\n",
    "Ψ0 = Ψ0 / sqrt(transpose(Ψ0) * Ψ0)\n",
    "if(sum(Ψ0) < 0)\n",
    "    Ψ0 = -Ψ0\n",
    "end"
   ]
  },
  {
   "cell_type": "markdown",
   "metadata": {},
   "source": [
    "In real problems we might be able to set prior knowledge about the problem but here we are just going to kick-start from an initial guess at $0$."
   ]
  },
  {
   "cell_type": "code",
   "execution_count": 5,
   "metadata": {},
   "outputs": [],
   "source": [
    "const V0 = [0.0 for i in -1:m:1];"
   ]
  },
  {
   "cell_type": "markdown",
   "metadata": {},
   "source": [
    "Discretise the space using center-difference scheme and set the periodic boundary conditions."
   ]
  },
  {
   "cell_type": "code",
   "execution_count": 6,
   "metadata": {},
   "outputs": [],
   "source": [
    "Mesh = spdiagm(-1 => [1.0 for i in 1:N-1],\n",
    "               0 => [2.0 for i in 1:N],\n",
    "               1 => [1.0 for i in 1:N-1])\n",
    "\n",
    "# Periodic boundary conditions.\n",
    "Mesh[1, N] = 1.0\n",
    "Mesh[N, 1] = 1.0\n",
    "\n",
    "# Build mesh.\n",
    "Mesh = -Mesh / dx^2;"
   ]
  },
  {
   "cell_type": "markdown",
   "metadata": {},
   "source": [
    "Next we need to setup the optimization problem. For this we need to pass the parameters which we setup above and create a data structure to store the current calculation state."
   ]
  },
  {
   "cell_type": "code",
   "execution_count": 7,
   "metadata": {},
   "outputs": [],
   "source": [
    "# Build constants.\n",
    "const p = [N, dx, Ψ0, Mesh]\n",
    "\n",
    "mutable struct Schrodinger{T1, T2, T3}\n",
    "    A::T1\n",
    "    E::T2\n",
    "    Ψ::T3\n",
    "end\n",
    "\n",
    "schr = Schrodinger(Mesh, 0.0, zeros(N));"
   ]
  },
  {
   "cell_type": "markdown",
   "metadata": {},
   "source": [
    "The finite difference disretisation with an initial guess allows us to solve $Ax=b$ using Arnoldi iterations (Conjugate gradient) and computing the cost function as the least squares error between the generated target data and predictions form the the current solution state."
   ]
  },
  {
   "cell_type": "code",
   "execution_count": 8,
   "metadata": {},
   "outputs": [
    {
     "data": {
      "text/plain": [
       "schrodinger_fd (generic function with 1 method)"
      ]
     },
     "execution_count": 8,
     "metadata": {},
     "output_type": "execute_result"
    }
   ],
   "source": [
    "function schrodinger_fd(V, schr, p)\n",
    "    N, _, Ψ0, Mesh = p\n",
    "\n",
    "    A = Mesh + Diagonal(V)\n",
    "\n",
    "    # Smallest values.\n",
    "    E = eigvals(Matrix(A))[1]\n",
    "    Ψ = eigvecs(Matrix(A))[:, 1]\n",
    "\n",
    "    # Pick sign.\n",
    "    if(sum(Ψ) < 0)\n",
    "        Ψ = -Ψ\n",
    "    end\n",
    "\n",
    "    schr.A = A\n",
    "    schr.E = E\n",
    "    schr.Ψ = Ψ\n",
    "\n",
    "    # Least-squares error.\n",
    "    err = 0.0\n",
    "    for i in 1:N\n",
    "        err += (Ψ[i] - Ψ0[i])^2\n",
    "    end\n",
    "\n",
    "    return err\n",
    "end"
   ]
  },
  {
   "cell_type": "markdown",
   "metadata": {},
   "source": [
    "Finally, we add the derived equations for the adjoint and pass the solution state to calculate the gradient. The adjoint equations are solved with the Conjugate gradient method."
   ]
  },
  {
   "cell_type": "code",
   "execution_count": 9,
   "metadata": {},
   "outputs": [
    {
     "data": {
      "text/plain": [
       "schrodinger_fd_adj (generic function with 1 method)"
      ]
     },
     "execution_count": 9,
     "metadata": {},
     "output_type": "execute_result"
    }
   ],
   "source": [
    "function schrodinger_fd_adj(gp, V, schr, p)\n",
    "    N, dx, Ψ0, _ = p\n",
    "\n",
    "    A = schr.A\n",
    "    E = schr.E\n",
    "    Ψ = schr.Ψ\n",
    "\n",
    "    gΨ = Ψ - Ψ0\n",
    "    g = transpose(gΨ) * gΨ * dx\n",
    "    gΨ = gΨ * 2 * dx\n",
    "\n",
    "    P(Ψx) = Ψx - Ψ * (transpose(Ψ) * Ψx)\n",
    "    λ = cg(A - Diagonal([E for i in 1:N]), P(gΨ))\n",
    "    λ = P(λ)\n",
    "\n",
    "    copyto!(gp, -real(conj(λ) .* Ψ))\n",
    "end"
   ]
  },
  {
   "cell_type": "markdown",
   "metadata": {},
   "source": [
    "We can now fill in the initial state with the guess for $V_0$."
   ]
  },
  {
   "cell_type": "code",
   "execution_count": 10,
   "metadata": {},
   "outputs": [
    {
     "data": {
      "text/plain": [
       "0.36358289201172456"
      ]
     },
     "execution_count": 10,
     "metadata": {},
     "output_type": "execute_result"
    }
   ],
   "source": [
    "schrodinger_fd(V0, schr, p)"
   ]
  },
  {
   "cell_type": "markdown",
   "metadata": {},
   "source": [
    "After the initial state we can pass with to [Optim.jl](https://github.com/JuliaNLSolvers/Optim.jl) and optimize using the Conjugate gradient method and the [Nocedal and Wright line search](https://github.com/JuliaNLSolvers/LineSearches.jl)."
   ]
  },
  {
   "cell_type": "code",
   "execution_count": 11,
   "metadata": {},
   "outputs": [
    {
     "name": "stdout",
     "output_type": "stream",
     "text": [
      " * Status: failure (reached maximum number of iterations)\n",
      "\n",
      " * Candidate solution\n",
      "    Minimizer: [-6.97e+01, -6.31e+01, -5.21e+01,  ...]\n",
      "    Minimum:   1.073967e-02\n",
      "\n",
      " * Found with\n",
      "    Algorithm:     Conjugate Gradient\n",
      "    Initial Point: [0.00e+00, 0.00e+00, 0.00e+00,  ...]\n",
      "\n",
      " * Convergence measures\n",
      "    |x - x'|               = 2.25e-02 ≰ 0.0e+00\n",
      "    |x - x'|/|x'|          = 2.76e-04 ≰ 0.0e+00\n",
      "    |f(x) - f(x')|         = 5.17e-06 ≰ 0.0e+00\n",
      "    |f(x) - f(x')|/|f(x')| = 4.81e-04 ≰ 0.0e+00\n",
      "    |g(x)|                 = 2.50e-07 ≰ 1.0e-08\n",
      "\n",
      " * Work counters\n",
      "    Seconds run:   205  (vs limit Inf)\n",
      "    Iterations:    1500\n",
      "    f(x) calls:    25492\n",
      "    ∇f(x) calls:   25492\n"
     ]
    },
    {
     "data": {
      "text/plain": [
       "101-element Array{Float64,1}:\n",
       " -69.7179927132526  \n",
       " -63.069608186066425\n",
       " -52.087451574006884\n",
       " -37.36573473180763 \n",
       " -20.180400235224578\n",
       "  -2.229225733813316\n",
       "  14.749615511053337\n",
       "  29.331853859440123\n",
       "  40.62554608422707 \n",
       "  48.3225249611126  \n",
       "  52.61571536510694 \n",
       "  54.042947983512384\n",
       "  53.31503924672539 \n",
       "   ⋮                \n",
       "  17.178647984621353\n",
       "   8.021381994966156\n",
       "  -2.573762022324184\n",
       " -14.023136038593602\n",
       " -25.664072903254834\n",
       " -36.846554029251884\n",
       " -47.03051365926664 \n",
       " -55.83742898698404 \n",
       " -63.019981543247575\n",
       " -68.35860212436283 \n",
       " -71.54666184631233 \n",
       " -72.15224515470479 "
      ]
     },
     "execution_count": 11,
     "metadata": {},
     "output_type": "execute_result"
    }
   ],
   "source": [
    "res= optimize(V0 -> schrodinger_fd(V0, schr, p),\n",
    "              (gp, V) -> schrodinger_fd_adj(gp, V, schr, p),\n",
    "              V0,\n",
    "              ConjugateGradient(;alphaguess = LineSearches.InitialStatic(),\n",
    "                                linesearch = LineSearches.StrongWolfe()),\n",
    "              Optim.Options(iterations = 1500))\n",
    "\n",
    "show(res)\n",
    "V = Optim.minimizer(res)"
   ]
  },
  {
   "cell_type": "markdown",
   "metadata": {},
   "source": [
    "After the convergence criteria are met we can get the final state."
   ]
  },
  {
   "cell_type": "code",
   "execution_count": 12,
   "metadata": {},
   "outputs": [
    {
     "data": {
      "text/plain": [
       "101-element Array{Float64,1}:\n",
       " 0.14833164726134337 \n",
       " 0.13919394825641024 \n",
       " 0.1278699952817301  \n",
       " 0.11509936367379768 \n",
       " 0.10170432021101757 \n",
       " 0.0884566618539783  \n",
       " 0.07597235110988376 \n",
       " 0.06465962208332779 \n",
       " 0.05472117218785397 \n",
       " 0.04619297069858297 \n",
       " 0.03899745133110734 \n",
       " 0.032993990421552606\n",
       " 0.028017912623404584\n",
       " ⋮                   \n",
       " 0.09614588450255365 \n",
       " 0.10240636155599434 \n",
       " 0.10997045784342774 \n",
       " 0.11846840215967322 \n",
       " 0.1274298017992534  \n",
       " 0.13629635337111087 \n",
       " 0.1444518047974951  \n",
       " 0.15126517003159562 \n",
       " 0.15614027501154157 \n",
       " 0.1585660575136774  \n",
       " 0.15816585545769815 \n",
       " 0.1547451044185629  "
      ]
     },
     "execution_count": 12,
     "metadata": {},
     "output_type": "execute_result"
    }
   ],
   "source": [
    "# Calculate the Ψ for the optimized V.\n",
    "schrodinger_fd(V, schr, p)\n",
    "Ψ = schr.Ψ"
   ]
  },
  {
   "cell_type": "markdown",
   "metadata": {},
   "source": [
    "Finally, we create a plot and see how well we did."
   ]
  },
  {
   "cell_type": "code",
   "execution_count": 13,
   "metadata": {},
   "outputs": [
    {
     "data": {
      "image/svg+xml": [
       "<?xml version=\"1.0\" encoding=\"utf-8\"?>\n",
       "<svg xmlns=\"http://www.w3.org/2000/svg\" xmlns:xlink=\"http://www.w3.org/1999/xlink\" width=\"600\" height=\"400\" viewBox=\"0 0 2400 1600\">\n",
       "<defs>\n",
       "  <clipPath id=\"clip8600\">\n",
       "    <rect x=\"0\" y=\"0\" width=\"2400\" height=\"1600\"/>\n",
       "  </clipPath>\n",
       "</defs>\n",
       "<path clip-path=\"url(#clip8600)\" d=\"\n",
       "M0 1600 L2400 1600 L2400 0 L0 0  Z\n",
       "  \" fill=\"#ffffff\" fill-rule=\"evenodd\" fill-opacity=\"1\"/>\n",
       "<defs>\n",
       "  <clipPath id=\"clip8601\">\n",
       "    <rect x=\"480\" y=\"0\" width=\"1681\" height=\"1600\"/>\n",
       "  </clipPath>\n",
       "</defs>\n",
       "<path clip-path=\"url(#clip8600)\" d=\"\n",
       "M208.77 1487.47 L2352.76 1487.47 L2352.76 47.2441 L208.77 47.2441  Z\n",
       "  \" fill=\"#ffffff\" fill-rule=\"evenodd\" fill-opacity=\"1\"/>\n",
       "<defs>\n",
       "  <clipPath id=\"clip8602\">\n",
       "    <rect x=\"208\" y=\"47\" width=\"2145\" height=\"1441\"/>\n",
       "  </clipPath>\n",
       "</defs>\n",
       "<polyline clip-path=\"url(#clip8600)\" style=\"stroke:#000000; stroke-width:4; stroke-opacity:1; fill:none\" points=\"\n",
       "  208.77,1487.47 2352.76,1487.47 \n",
       "  \"/>\n",
       "<polyline clip-path=\"url(#clip8600)\" style=\"stroke:#000000; stroke-width:4; stroke-opacity:1; fill:none\" points=\"\n",
       "  208.77,1487.47 208.77,47.2441 \n",
       "  \"/>\n",
       "<polyline clip-path=\"url(#clip8600)\" style=\"stroke:#000000; stroke-width:4; stroke-opacity:1; fill:none\" points=\"\n",
       "  208.77,1487.47 208.77,1470.19 \n",
       "  \"/>\n",
       "<polyline clip-path=\"url(#clip8600)\" style=\"stroke:#000000; stroke-width:4; stroke-opacity:1; fill:none\" points=\"\n",
       "  423.169,1487.47 423.169,1470.19 \n",
       "  \"/>\n",
       "<polyline clip-path=\"url(#clip8600)\" style=\"stroke:#000000; stroke-width:4; stroke-opacity:1; fill:none\" points=\"\n",
       "  637.568,1487.47 637.568,1470.19 \n",
       "  \"/>\n",
       "<polyline clip-path=\"url(#clip8600)\" style=\"stroke:#000000; stroke-width:4; stroke-opacity:1; fill:none\" points=\"\n",
       "  851.966,1487.47 851.966,1470.19 \n",
       "  \"/>\n",
       "<polyline clip-path=\"url(#clip8600)\" style=\"stroke:#000000; stroke-width:4; stroke-opacity:1; fill:none\" points=\"\n",
       "  1066.36,1487.47 1066.36,1470.19 \n",
       "  \"/>\n",
       "<polyline clip-path=\"url(#clip8600)\" style=\"stroke:#000000; stroke-width:4; stroke-opacity:1; fill:none\" points=\"\n",
       "  1280.76,1487.47 1280.76,1470.19 \n",
       "  \"/>\n",
       "<polyline clip-path=\"url(#clip8600)\" style=\"stroke:#000000; stroke-width:4; stroke-opacity:1; fill:none\" points=\"\n",
       "  1495.16,1487.47 1495.16,1470.19 \n",
       "  \"/>\n",
       "<polyline clip-path=\"url(#clip8600)\" style=\"stroke:#000000; stroke-width:4; stroke-opacity:1; fill:none\" points=\"\n",
       "  1709.56,1487.47 1709.56,1470.19 \n",
       "  \"/>\n",
       "<polyline clip-path=\"url(#clip8600)\" style=\"stroke:#000000; stroke-width:4; stroke-opacity:1; fill:none\" points=\"\n",
       "  1923.96,1487.47 1923.96,1470.19 \n",
       "  \"/>\n",
       "<polyline clip-path=\"url(#clip8600)\" style=\"stroke:#000000; stroke-width:4; stroke-opacity:1; fill:none\" points=\"\n",
       "  2138.36,1487.47 2138.36,1470.19 \n",
       "  \"/>\n",
       "<polyline clip-path=\"url(#clip8600)\" style=\"stroke:#000000; stroke-width:4; stroke-opacity:1; fill:none\" points=\"\n",
       "  2352.76,1487.47 2352.76,1470.19 \n",
       "  \"/>\n",
       "<polyline clip-path=\"url(#clip8600)\" style=\"stroke:#000000; stroke-width:4; stroke-opacity:1; fill:none\" points=\"\n",
       "  208.77,1487.47 234.498,1487.47 \n",
       "  \"/>\n",
       "<polyline clip-path=\"url(#clip8600)\" style=\"stroke:#000000; stroke-width:4; stroke-opacity:1; fill:none\" points=\"\n",
       "  208.77,1281.73 234.498,1281.73 \n",
       "  \"/>\n",
       "<polyline clip-path=\"url(#clip8600)\" style=\"stroke:#000000; stroke-width:4; stroke-opacity:1; fill:none\" points=\"\n",
       "  208.77,1075.98 234.498,1075.98 \n",
       "  \"/>\n",
       "<polyline clip-path=\"url(#clip8600)\" style=\"stroke:#000000; stroke-width:4; stroke-opacity:1; fill:none\" points=\"\n",
       "  208.77,870.233 234.498,870.233 \n",
       "  \"/>\n",
       "<polyline clip-path=\"url(#clip8600)\" style=\"stroke:#000000; stroke-width:4; stroke-opacity:1; fill:none\" points=\"\n",
       "  208.77,664.486 234.498,664.486 \n",
       "  \"/>\n",
       "<polyline clip-path=\"url(#clip8600)\" style=\"stroke:#000000; stroke-width:4; stroke-opacity:1; fill:none\" points=\"\n",
       "  208.77,458.739 234.498,458.739 \n",
       "  \"/>\n",
       "<polyline clip-path=\"url(#clip8600)\" style=\"stroke:#000000; stroke-width:4; stroke-opacity:1; fill:none\" points=\"\n",
       "  208.77,252.991 234.498,252.991 \n",
       "  \"/>\n",
       "<polyline clip-path=\"url(#clip8600)\" style=\"stroke:#000000; stroke-width:4; stroke-opacity:1; fill:none\" points=\"\n",
       "  208.77,47.2441 234.498,47.2441 \n",
       "  \"/>\n",
       "<g clip-path=\"url(#clip8600)\">\n",
       "<text style=\"fill:#000000; fill-opacity:1; font-family:Arial,Helvetica Neue,Helvetica,sans-serif; font-size:48px; text-anchor:middle;\" transform=\"rotate(0, 208.77, 1541.47)\" x=\"208.77\" y=\"1541.47\">-1.0</text>\n",
       "</g>\n",
       "<g clip-path=\"url(#clip8600)\">\n",
       "<text style=\"fill:#000000; fill-opacity:1; font-family:Arial,Helvetica Neue,Helvetica,sans-serif; font-size:48px; text-anchor:middle;\" transform=\"rotate(0, 423.169, 1541.47)\" x=\"423.169\" y=\"1541.47\">-0.8</text>\n",
       "</g>\n",
       "<g clip-path=\"url(#clip8600)\">\n",
       "<text style=\"fill:#000000; fill-opacity:1; font-family:Arial,Helvetica Neue,Helvetica,sans-serif; font-size:48px; text-anchor:middle;\" transform=\"rotate(0, 637.568, 1541.47)\" x=\"637.568\" y=\"1541.47\">-0.6</text>\n",
       "</g>\n",
       "<g clip-path=\"url(#clip8600)\">\n",
       "<text style=\"fill:#000000; fill-opacity:1; font-family:Arial,Helvetica Neue,Helvetica,sans-serif; font-size:48px; text-anchor:middle;\" transform=\"rotate(0, 851.966, 1541.47)\" x=\"851.966\" y=\"1541.47\">-0.4</text>\n",
       "</g>\n",
       "<g clip-path=\"url(#clip8600)\">\n",
       "<text style=\"fill:#000000; fill-opacity:1; font-family:Arial,Helvetica Neue,Helvetica,sans-serif; font-size:48px; text-anchor:middle;\" transform=\"rotate(0, 1066.36, 1541.47)\" x=\"1066.36\" y=\"1541.47\">-0.2</text>\n",
       "</g>\n",
       "<g clip-path=\"url(#clip8600)\">\n",
       "<text style=\"fill:#000000; fill-opacity:1; font-family:Arial,Helvetica Neue,Helvetica,sans-serif; font-size:48px; text-anchor:middle;\" transform=\"rotate(0, 1280.76, 1541.47)\" x=\"1280.76\" y=\"1541.47\">0.0</text>\n",
       "</g>\n",
       "<g clip-path=\"url(#clip8600)\">\n",
       "<text style=\"fill:#000000; fill-opacity:1; font-family:Arial,Helvetica Neue,Helvetica,sans-serif; font-size:48px; text-anchor:middle;\" transform=\"rotate(0, 1495.16, 1541.47)\" x=\"1495.16\" y=\"1541.47\">0.2</text>\n",
       "</g>\n",
       "<g clip-path=\"url(#clip8600)\">\n",
       "<text style=\"fill:#000000; fill-opacity:1; font-family:Arial,Helvetica Neue,Helvetica,sans-serif; font-size:48px; text-anchor:middle;\" transform=\"rotate(0, 1709.56, 1541.47)\" x=\"1709.56\" y=\"1541.47\">0.4</text>\n",
       "</g>\n",
       "<g clip-path=\"url(#clip8600)\">\n",
       "<text style=\"fill:#000000; fill-opacity:1; font-family:Arial,Helvetica Neue,Helvetica,sans-serif; font-size:48px; text-anchor:middle;\" transform=\"rotate(0, 1923.96, 1541.47)\" x=\"1923.96\" y=\"1541.47\">0.6</text>\n",
       "</g>\n",
       "<g clip-path=\"url(#clip8600)\">\n",
       "<text style=\"fill:#000000; fill-opacity:1; font-family:Arial,Helvetica Neue,Helvetica,sans-serif; font-size:48px; text-anchor:middle;\" transform=\"rotate(0, 2138.36, 1541.47)\" x=\"2138.36\" y=\"1541.47\">0.8</text>\n",
       "</g>\n",
       "<g clip-path=\"url(#clip8600)\">\n",
       "<text style=\"fill:#000000; fill-opacity:1; font-family:Arial,Helvetica Neue,Helvetica,sans-serif; font-size:48px; text-anchor:middle;\" transform=\"rotate(0, 2352.76, 1541.47)\" x=\"2352.76\" y=\"1541.47\">1.0</text>\n",
       "</g>\n",
       "<g clip-path=\"url(#clip8600)\">\n",
       "<text style=\"fill:#000000; fill-opacity:1; font-family:Arial,Helvetica Neue,Helvetica,sans-serif; font-size:48px; text-anchor:end;\" transform=\"rotate(0, 184.77, 1504.97)\" x=\"184.77\" y=\"1504.97\">-0.15</text>\n",
       "</g>\n",
       "<g clip-path=\"url(#clip8600)\">\n",
       "<text style=\"fill:#000000; fill-opacity:1; font-family:Arial,Helvetica Neue,Helvetica,sans-serif; font-size:48px; text-anchor:end;\" transform=\"rotate(0, 184.77, 1299.23)\" x=\"184.77\" y=\"1299.23\">-0.10</text>\n",
       "</g>\n",
       "<g clip-path=\"url(#clip8600)\">\n",
       "<text style=\"fill:#000000; fill-opacity:1; font-family:Arial,Helvetica Neue,Helvetica,sans-serif; font-size:48px; text-anchor:end;\" transform=\"rotate(0, 184.77, 1093.48)\" x=\"184.77\" y=\"1093.48\">-0.05</text>\n",
       "</g>\n",
       "<g clip-path=\"url(#clip8600)\">\n",
       "<text style=\"fill:#000000; fill-opacity:1; font-family:Arial,Helvetica Neue,Helvetica,sans-serif; font-size:48px; text-anchor:end;\" transform=\"rotate(0, 184.77, 887.733)\" x=\"184.77\" y=\"887.733\">0.00</text>\n",
       "</g>\n",
       "<g clip-path=\"url(#clip8600)\">\n",
       "<text style=\"fill:#000000; fill-opacity:1; font-family:Arial,Helvetica Neue,Helvetica,sans-serif; font-size:48px; text-anchor:end;\" transform=\"rotate(0, 184.77, 681.986)\" x=\"184.77\" y=\"681.986\">0.05</text>\n",
       "</g>\n",
       "<g clip-path=\"url(#clip8600)\">\n",
       "<text style=\"fill:#000000; fill-opacity:1; font-family:Arial,Helvetica Neue,Helvetica,sans-serif; font-size:48px; text-anchor:end;\" transform=\"rotate(0, 184.77, 476.239)\" x=\"184.77\" y=\"476.239\">0.10</text>\n",
       "</g>\n",
       "<g clip-path=\"url(#clip8600)\">\n",
       "<text style=\"fill:#000000; fill-opacity:1; font-family:Arial,Helvetica Neue,Helvetica,sans-serif; font-size:48px; text-anchor:end;\" transform=\"rotate(0, 184.77, 270.491)\" x=\"184.77\" y=\"270.491\">0.15</text>\n",
       "</g>\n",
       "<g clip-path=\"url(#clip8600)\">\n",
       "<text style=\"fill:#000000; fill-opacity:1; font-family:Arial,Helvetica Neue,Helvetica,sans-serif; font-size:48px; text-anchor:end;\" transform=\"rotate(0, 184.77, 64.7441)\" x=\"184.77\" y=\"64.7441\">0.20</text>\n",
       "</g>\n",
       "<polyline clip-path=\"url(#clip8602)\" style=\"stroke:#000000; stroke-width:4; stroke-opacity:1; fill:none\" points=\"\n",
       "  208.77,47.2441 2352.76,47.2441 \n",
       "  \"/>\n",
       "<polyline clip-path=\"url(#clip8602)\" style=\"stroke:#000000; stroke-width:4; stroke-opacity:1; fill:none\" points=\"\n",
       "  2352.76,1487.47 2352.76,47.2441 \n",
       "  \"/>\n",
       "<circle clip-path=\"url(#clip8602)\" style=\"fill:#0000ff; stroke:none; fill-opacity:1\" cx=\"230.21\" cy=\"297.458\" r=\"14\"/>\n",
       "<circle clip-path=\"url(#clip8602)\" style=\"fill:#ffffff; stroke:none; fill-opacity:1\" cx=\"230.21\" cy=\"297.458\" r=\"10\"/>\n",
       "<circle clip-path=\"url(#clip8602)\" style=\"fill:#0000ff; stroke:none; fill-opacity:1\" cx=\"251.65\" cy=\"344.055\" r=\"14\"/>\n",
       "<circle clip-path=\"url(#clip8602)\" style=\"fill:#ffffff; stroke:none; fill-opacity:1\" cx=\"251.65\" cy=\"344.055\" r=\"10\"/>\n",
       "<circle clip-path=\"url(#clip8602)\" style=\"fill:#0000ff; stroke:none; fill-opacity:1\" cx=\"273.09\" cy=\"396.606\" r=\"14\"/>\n",
       "<circle clip-path=\"url(#clip8602)\" style=\"fill:#ffffff; stroke:none; fill-opacity:1\" cx=\"273.09\" cy=\"396.606\" r=\"10\"/>\n",
       "<circle clip-path=\"url(#clip8602)\" style=\"fill:#0000ff; stroke:none; fill-opacity:1\" cx=\"294.53\" cy=\"451.725\" r=\"14\"/>\n",
       "<circle clip-path=\"url(#clip8602)\" style=\"fill:#ffffff; stroke:none; fill-opacity:1\" cx=\"294.53\" cy=\"451.725\" r=\"10\"/>\n",
       "<circle clip-path=\"url(#clip8602)\" style=\"fill:#0000ff; stroke:none; fill-opacity:1\" cx=\"315.97\" cy=\"506.239\" r=\"14\"/>\n",
       "<circle clip-path=\"url(#clip8602)\" style=\"fill:#ffffff; stroke:none; fill-opacity:1\" cx=\"315.97\" cy=\"506.239\" r=\"10\"/>\n",
       "<circle clip-path=\"url(#clip8602)\" style=\"fill:#0000ff; stroke:none; fill-opacity:1\" cx=\"337.41\" cy=\"557.611\" r=\"14\"/>\n",
       "<circle clip-path=\"url(#clip8602)\" style=\"fill:#ffffff; stroke:none; fill-opacity:1\" cx=\"337.41\" cy=\"557.611\" r=\"10\"/>\n",
       "<circle clip-path=\"url(#clip8602)\" style=\"fill:#0000ff; stroke:none; fill-opacity:1\" cx=\"358.849\" cy=\"604.162\" r=\"14\"/>\n",
       "<circle clip-path=\"url(#clip8602)\" style=\"fill:#ffffff; stroke:none; fill-opacity:1\" cx=\"358.849\" cy=\"604.162\" r=\"10\"/>\n",
       "<circle clip-path=\"url(#clip8602)\" style=\"fill:#0000ff; stroke:none; fill-opacity:1\" cx=\"380.289\" cy=\"645.058\" r=\"14\"/>\n",
       "<circle clip-path=\"url(#clip8602)\" style=\"fill:#ffffff; stroke:none; fill-opacity:1\" cx=\"380.289\" cy=\"645.058\" r=\"10\"/>\n",
       "<circle clip-path=\"url(#clip8602)\" style=\"fill:#0000ff; stroke:none; fill-opacity:1\" cx=\"401.729\" cy=\"680.152\" r=\"14\"/>\n",
       "<circle clip-path=\"url(#clip8602)\" style=\"fill:#ffffff; stroke:none; fill-opacity:1\" cx=\"401.729\" cy=\"680.152\" r=\"10\"/>\n",
       "<circle clip-path=\"url(#clip8602)\" style=\"fill:#0000ff; stroke:none; fill-opacity:1\" cx=\"423.169\" cy=\"709.761\" r=\"14\"/>\n",
       "<circle clip-path=\"url(#clip8602)\" style=\"fill:#ffffff; stroke:none; fill-opacity:1\" cx=\"423.169\" cy=\"709.761\" r=\"10\"/>\n",
       "<circle clip-path=\"url(#clip8602)\" style=\"fill:#0000ff; stroke:none; fill-opacity:1\" cx=\"444.609\" cy=\"734.465\" r=\"14\"/>\n",
       "<circle clip-path=\"url(#clip8602)\" style=\"fill:#ffffff; stroke:none; fill-opacity:1\" cx=\"444.609\" cy=\"734.465\" r=\"10\"/>\n",
       "<circle clip-path=\"url(#clip8602)\" style=\"fill:#0000ff; stroke:none; fill-opacity:1\" cx=\"466.049\" cy=\"754.941\" r=\"14\"/>\n",
       "<circle clip-path=\"url(#clip8602)\" style=\"fill:#ffffff; stroke:none; fill-opacity:1\" cx=\"466.049\" cy=\"754.941\" r=\"10\"/>\n",
       "<circle clip-path=\"url(#clip8602)\" style=\"fill:#0000ff; stroke:none; fill-opacity:1\" cx=\"487.489\" cy=\"771.861\" r=\"14\"/>\n",
       "<circle clip-path=\"url(#clip8602)\" style=\"fill:#ffffff; stroke:none; fill-opacity:1\" cx=\"487.489\" cy=\"771.861\" r=\"10\"/>\n",
       "<circle clip-path=\"url(#clip8602)\" style=\"fill:#0000ff; stroke:none; fill-opacity:1\" cx=\"508.928\" cy=\"785.83\" r=\"14\"/>\n",
       "<circle clip-path=\"url(#clip8602)\" style=\"fill:#ffffff; stroke:none; fill-opacity:1\" cx=\"508.928\" cy=\"785.83\" r=\"10\"/>\n",
       "<circle clip-path=\"url(#clip8602)\" style=\"fill:#0000ff; stroke:none; fill-opacity:1\" cx=\"530.368\" cy=\"797.367\" r=\"14\"/>\n",
       "<circle clip-path=\"url(#clip8602)\" style=\"fill:#ffffff; stroke:none; fill-opacity:1\" cx=\"530.368\" cy=\"797.367\" r=\"10\"/>\n",
       "<circle clip-path=\"url(#clip8602)\" style=\"fill:#0000ff; stroke:none; fill-opacity:1\" cx=\"551.808\" cy=\"806.896\" r=\"14\"/>\n",
       "<circle clip-path=\"url(#clip8602)\" style=\"fill:#ffffff; stroke:none; fill-opacity:1\" cx=\"551.808\" cy=\"806.896\" r=\"10\"/>\n",
       "<circle clip-path=\"url(#clip8602)\" style=\"fill:#0000ff; stroke:none; fill-opacity:1\" cx=\"573.248\" cy=\"814.755\" r=\"14\"/>\n",
       "<circle clip-path=\"url(#clip8602)\" style=\"fill:#ffffff; stroke:none; fill-opacity:1\" cx=\"573.248\" cy=\"814.755\" r=\"10\"/>\n",
       "<circle clip-path=\"url(#clip8602)\" style=\"fill:#0000ff; stroke:none; fill-opacity:1\" cx=\"594.688\" cy=\"821.212\" r=\"14\"/>\n",
       "<circle clip-path=\"url(#clip8602)\" style=\"fill:#ffffff; stroke:none; fill-opacity:1\" cx=\"594.688\" cy=\"821.212\" r=\"10\"/>\n",
       "<circle clip-path=\"url(#clip8602)\" style=\"fill:#0000ff; stroke:none; fill-opacity:1\" cx=\"616.128\" cy=\"826.473\" r=\"14\"/>\n",
       "<circle clip-path=\"url(#clip8602)\" style=\"fill:#ffffff; stroke:none; fill-opacity:1\" cx=\"616.128\" cy=\"826.473\" r=\"10\"/>\n",
       "<circle clip-path=\"url(#clip8602)\" style=\"fill:#0000ff; stroke:none; fill-opacity:1\" cx=\"637.568\" cy=\"830.697\" r=\"14\"/>\n",
       "<circle clip-path=\"url(#clip8602)\" style=\"fill:#ffffff; stroke:none; fill-opacity:1\" cx=\"637.568\" cy=\"830.697\" r=\"10\"/>\n",
       "<circle clip-path=\"url(#clip8602)\" style=\"fill:#0000ff; stroke:none; fill-opacity:1\" cx=\"659.007\" cy=\"834.006\" r=\"14\"/>\n",
       "<circle clip-path=\"url(#clip8602)\" style=\"fill:#ffffff; stroke:none; fill-opacity:1\" cx=\"659.007\" cy=\"834.006\" r=\"10\"/>\n",
       "<circle clip-path=\"url(#clip8602)\" style=\"fill:#0000ff; stroke:none; fill-opacity:1\" cx=\"680.447\" cy=\"836.49\" r=\"14\"/>\n",
       "<circle clip-path=\"url(#clip8602)\" style=\"fill:#ffffff; stroke:none; fill-opacity:1\" cx=\"680.447\" cy=\"836.49\" r=\"10\"/>\n",
       "<circle clip-path=\"url(#clip8602)\" style=\"fill:#0000ff; stroke:none; fill-opacity:1\" cx=\"701.887\" cy=\"838.213\" r=\"14\"/>\n",
       "<circle clip-path=\"url(#clip8602)\" style=\"fill:#ffffff; stroke:none; fill-opacity:1\" cx=\"701.887\" cy=\"838.213\" r=\"10\"/>\n",
       "<circle clip-path=\"url(#clip8602)\" style=\"fill:#0000ff; stroke:none; fill-opacity:1\" cx=\"723.327\" cy=\"839.221\" r=\"14\"/>\n",
       "<circle clip-path=\"url(#clip8602)\" style=\"fill:#ffffff; stroke:none; fill-opacity:1\" cx=\"723.327\" cy=\"839.221\" r=\"10\"/>\n",
       "<circle clip-path=\"url(#clip8602)\" style=\"fill:#0000ff; stroke:none; fill-opacity:1\" cx=\"744.767\" cy=\"839.538\" r=\"14\"/>\n",
       "<circle clip-path=\"url(#clip8602)\" style=\"fill:#ffffff; stroke:none; fill-opacity:1\" cx=\"744.767\" cy=\"839.538\" r=\"10\"/>\n",
       "<circle clip-path=\"url(#clip8602)\" style=\"fill:#0000ff; stroke:none; fill-opacity:1\" cx=\"766.207\" cy=\"839.172\" r=\"14\"/>\n",
       "<circle clip-path=\"url(#clip8602)\" style=\"fill:#ffffff; stroke:none; fill-opacity:1\" cx=\"766.207\" cy=\"839.172\" r=\"10\"/>\n",
       "<circle clip-path=\"url(#clip8602)\" style=\"fill:#0000ff; stroke:none; fill-opacity:1\" cx=\"787.646\" cy=\"838.114\" r=\"14\"/>\n",
       "<circle clip-path=\"url(#clip8602)\" style=\"fill:#ffffff; stroke:none; fill-opacity:1\" cx=\"787.646\" cy=\"838.114\" r=\"10\"/>\n",
       "<circle clip-path=\"url(#clip8602)\" style=\"fill:#0000ff; stroke:none; fill-opacity:1\" cx=\"809.086\" cy=\"836.339\" r=\"14\"/>\n",
       "<circle clip-path=\"url(#clip8602)\" style=\"fill:#ffffff; stroke:none; fill-opacity:1\" cx=\"809.086\" cy=\"836.339\" r=\"10\"/>\n",
       "<circle clip-path=\"url(#clip8602)\" style=\"fill:#0000ff; stroke:none; fill-opacity:1\" cx=\"830.526\" cy=\"833.799\" r=\"14\"/>\n",
       "<circle clip-path=\"url(#clip8602)\" style=\"fill:#ffffff; stroke:none; fill-opacity:1\" cx=\"830.526\" cy=\"833.799\" r=\"10\"/>\n",
       "<circle clip-path=\"url(#clip8602)\" style=\"fill:#0000ff; stroke:none; fill-opacity:1\" cx=\"851.966\" cy=\"830.431\" r=\"14\"/>\n",
       "<circle clip-path=\"url(#clip8602)\" style=\"fill:#ffffff; stroke:none; fill-opacity:1\" cx=\"851.966\" cy=\"830.431\" r=\"10\"/>\n",
       "<circle clip-path=\"url(#clip8602)\" style=\"fill:#0000ff; stroke:none; fill-opacity:1\" cx=\"873.406\" cy=\"826.14\" r=\"14\"/>\n",
       "<circle clip-path=\"url(#clip8602)\" style=\"fill:#ffffff; stroke:none; fill-opacity:1\" cx=\"873.406\" cy=\"826.14\" r=\"10\"/>\n",
       "<circle clip-path=\"url(#clip8602)\" style=\"fill:#0000ff; stroke:none; fill-opacity:1\" cx=\"894.846\" cy=\"820.805\" r=\"14\"/>\n",
       "<circle clip-path=\"url(#clip8602)\" style=\"fill:#ffffff; stroke:none; fill-opacity:1\" cx=\"894.846\" cy=\"820.805\" r=\"10\"/>\n",
       "<circle clip-path=\"url(#clip8602)\" style=\"fill:#0000ff; stroke:none; fill-opacity:1\" cx=\"916.286\" cy=\"814.264\" r=\"14\"/>\n",
       "<circle clip-path=\"url(#clip8602)\" style=\"fill:#ffffff; stroke:none; fill-opacity:1\" cx=\"916.286\" cy=\"814.264\" r=\"10\"/>\n",
       "<circle clip-path=\"url(#clip8602)\" style=\"fill:#0000ff; stroke:none; fill-opacity:1\" cx=\"937.725\" cy=\"806.307\" r=\"14\"/>\n",
       "<circle clip-path=\"url(#clip8602)\" style=\"fill:#ffffff; stroke:none; fill-opacity:1\" cx=\"937.725\" cy=\"806.307\" r=\"10\"/>\n",
       "<circle clip-path=\"url(#clip8602)\" style=\"fill:#0000ff; stroke:none; fill-opacity:1\" cx=\"959.165\" cy=\"796.665\" r=\"14\"/>\n",
       "<circle clip-path=\"url(#clip8602)\" style=\"fill:#ffffff; stroke:none; fill-opacity:1\" cx=\"959.165\" cy=\"796.665\" r=\"10\"/>\n",
       "<circle clip-path=\"url(#clip8602)\" style=\"fill:#0000ff; stroke:none; fill-opacity:1\" cx=\"980.605\" cy=\"784.994\" r=\"14\"/>\n",
       "<circle clip-path=\"url(#clip8602)\" style=\"fill:#ffffff; stroke:none; fill-opacity:1\" cx=\"980.605\" cy=\"784.994\" r=\"10\"/>\n",
       "<circle clip-path=\"url(#clip8602)\" style=\"fill:#0000ff; stroke:none; fill-opacity:1\" cx=\"1002.05\" cy=\"770.863\" r=\"14\"/>\n",
       "<circle clip-path=\"url(#clip8602)\" style=\"fill:#ffffff; stroke:none; fill-opacity:1\" cx=\"1002.05\" cy=\"770.863\" r=\"10\"/>\n",
       "<circle clip-path=\"url(#clip8602)\" style=\"fill:#0000ff; stroke:none; fill-opacity:1\" cx=\"1023.48\" cy=\"753.748\" r=\"14\"/>\n",
       "<circle clip-path=\"url(#clip8602)\" style=\"fill:#ffffff; stroke:none; fill-opacity:1\" cx=\"1023.48\" cy=\"753.748\" r=\"10\"/>\n",
       "<circle clip-path=\"url(#clip8602)\" style=\"fill:#0000ff; stroke:none; fill-opacity:1\" cx=\"1044.92\" cy=\"733.034\" r=\"14\"/>\n",
       "<circle clip-path=\"url(#clip8602)\" style=\"fill:#ffffff; stroke:none; fill-opacity:1\" cx=\"1044.92\" cy=\"733.034\" r=\"10\"/>\n",
       "<circle clip-path=\"url(#clip8602)\" style=\"fill:#0000ff; stroke:none; fill-opacity:1\" cx=\"1066.36\" cy=\"708.043\" r=\"14\"/>\n",
       "<circle clip-path=\"url(#clip8602)\" style=\"fill:#ffffff; stroke:none; fill-opacity:1\" cx=\"1066.36\" cy=\"708.043\" r=\"10\"/>\n",
       "<circle clip-path=\"url(#clip8602)\" style=\"fill:#0000ff; stroke:none; fill-opacity:1\" cx=\"1087.8\" cy=\"678.089\" r=\"14\"/>\n",
       "<circle clip-path=\"url(#clip8602)\" style=\"fill:#ffffff; stroke:none; fill-opacity:1\" cx=\"1087.8\" cy=\"678.089\" r=\"10\"/>\n",
       "<circle clip-path=\"url(#clip8602)\" style=\"fill:#0000ff; stroke:none; fill-opacity:1\" cx=\"1109.24\" cy=\"642.592\" r=\"14\"/>\n",
       "<circle clip-path=\"url(#clip8602)\" style=\"fill:#ffffff; stroke:none; fill-opacity:1\" cx=\"1109.24\" cy=\"642.592\" r=\"10\"/>\n",
       "<circle clip-path=\"url(#clip8602)\" style=\"fill:#0000ff; stroke:none; fill-opacity:1\" cx=\"1130.68\" cy=\"601.24\" r=\"14\"/>\n",
       "<circle clip-path=\"url(#clip8602)\" style=\"fill:#ffffff; stroke:none; fill-opacity:1\" cx=\"1130.68\" cy=\"601.24\" r=\"10\"/>\n",
       "<circle clip-path=\"url(#clip8602)\" style=\"fill:#0000ff; stroke:none; fill-opacity:1\" cx=\"1152.12\" cy=\"554.209\" r=\"14\"/>\n",
       "<circle clip-path=\"url(#clip8602)\" style=\"fill:#ffffff; stroke:none; fill-opacity:1\" cx=\"1152.12\" cy=\"554.209\" r=\"10\"/>\n",
       "<circle clip-path=\"url(#clip8602)\" style=\"fill:#0000ff; stroke:none; fill-opacity:1\" cx=\"1173.56\" cy=\"502.386\" r=\"14\"/>\n",
       "<circle clip-path=\"url(#clip8602)\" style=\"fill:#ffffff; stroke:none; fill-opacity:1\" cx=\"1173.56\" cy=\"502.386\" r=\"10\"/>\n",
       "<circle clip-path=\"url(#clip8602)\" style=\"fill:#0000ff; stroke:none; fill-opacity:1\" cx=\"1195\" cy=\"447.546\" r=\"14\"/>\n",
       "<circle clip-path=\"url(#clip8602)\" style=\"fill:#ffffff; stroke:none; fill-opacity:1\" cx=\"1195\" cy=\"447.546\" r=\"10\"/>\n",
       "<circle clip-path=\"url(#clip8602)\" style=\"fill:#0000ff; stroke:none; fill-opacity:1\" cx=\"1216.44\" cy=\"392.368\" r=\"14\"/>\n",
       "<circle clip-path=\"url(#clip8602)\" style=\"fill:#ffffff; stroke:none; fill-opacity:1\" cx=\"1216.44\" cy=\"392.368\" r=\"10\"/>\n",
       "<circle clip-path=\"url(#clip8602)\" style=\"fill:#0000ff; stroke:none; fill-opacity:1\" cx=\"1237.88\" cy=\"340.221\" r=\"14\"/>\n",
       "<circle clip-path=\"url(#clip8602)\" style=\"fill:#ffffff; stroke:none; fill-opacity:1\" cx=\"1237.88\" cy=\"340.221\" r=\"10\"/>\n",
       "<circle clip-path=\"url(#clip8602)\" style=\"fill:#0000ff; stroke:none; fill-opacity:1\" cx=\"1259.32\" cy=\"294.718\" r=\"14\"/>\n",
       "<circle clip-path=\"url(#clip8602)\" style=\"fill:#ffffff; stroke:none; fill-opacity:1\" cx=\"1259.32\" cy=\"294.718\" r=\"10\"/>\n",
       "<circle clip-path=\"url(#clip8602)\" style=\"fill:#0000ff; stroke:none; fill-opacity:1\" cx=\"1280.76\" cy=\"259.133\" r=\"14\"/>\n",
       "<circle clip-path=\"url(#clip8602)\" style=\"fill:#ffffff; stroke:none; fill-opacity:1\" cx=\"1280.76\" cy=\"259.133\" r=\"10\"/>\n",
       "<circle clip-path=\"url(#clip8602)\" style=\"fill:#0000ff; stroke:none; fill-opacity:1\" cx=\"1302.2\" cy=\"235.857\" r=\"14\"/>\n",
       "<circle clip-path=\"url(#clip8602)\" style=\"fill:#ffffff; stroke:none; fill-opacity:1\" cx=\"1302.2\" cy=\"235.857\" r=\"10\"/>\n",
       "<circle clip-path=\"url(#clip8602)\" style=\"fill:#0000ff; stroke:none; fill-opacity:1\" cx=\"1323.64\" cy=\"226.049\" r=\"14\"/>\n",
       "<circle clip-path=\"url(#clip8602)\" style=\"fill:#ffffff; stroke:none; fill-opacity:1\" cx=\"1323.64\" cy=\"226.049\" r=\"10\"/>\n",
       "<circle clip-path=\"url(#clip8602)\" style=\"fill:#0000ff; stroke:none; fill-opacity:1\" cx=\"1345.08\" cy=\"229.557\" r=\"14\"/>\n",
       "<circle clip-path=\"url(#clip8602)\" style=\"fill:#ffffff; stroke:none; fill-opacity:1\" cx=\"1345.08\" cy=\"229.557\" r=\"10\"/>\n",
       "<circle clip-path=\"url(#clip8602)\" style=\"fill:#0000ff; stroke:none; fill-opacity:1\" cx=\"1366.52\" cy=\"245.058\" r=\"14\"/>\n",
       "<circle clip-path=\"url(#clip8602)\" style=\"fill:#ffffff; stroke:none; fill-opacity:1\" cx=\"1366.52\" cy=\"245.058\" r=\"10\"/>\n",
       "<circle clip-path=\"url(#clip8602)\" style=\"fill:#0000ff; stroke:none; fill-opacity:1\" cx=\"1387.96\" cy=\"270.34\" r=\"14\"/>\n",
       "<circle clip-path=\"url(#clip8602)\" style=\"fill:#ffffff; stroke:none; fill-opacity:1\" cx=\"1387.96\" cy=\"270.34\" r=\"10\"/>\n",
       "<circle clip-path=\"url(#clip8602)\" style=\"fill:#0000ff; stroke:none; fill-opacity:1\" cx=\"1409.4\" cy=\"302.635\" r=\"14\"/>\n",
       "<circle clip-path=\"url(#clip8602)\" style=\"fill:#ffffff; stroke:none; fill-opacity:1\" cx=\"1409.4\" cy=\"302.635\" r=\"10\"/>\n",
       "<circle clip-path=\"url(#clip8602)\" style=\"fill:#0000ff; stroke:none; fill-opacity:1\" cx=\"1430.84\" cy=\"338.954\" r=\"14\"/>\n",
       "<circle clip-path=\"url(#clip8602)\" style=\"fill:#ffffff; stroke:none; fill-opacity:1\" cx=\"1430.84\" cy=\"338.954\" r=\"10\"/>\n",
       "<circle clip-path=\"url(#clip8602)\" style=\"fill:#0000ff; stroke:none; fill-opacity:1\" cx=\"1452.28\" cy=\"376.382\" r=\"14\"/>\n",
       "<circle clip-path=\"url(#clip8602)\" style=\"fill:#ffffff; stroke:none; fill-opacity:1\" cx=\"1452.28\" cy=\"376.382\" r=\"10\"/>\n",
       "<circle clip-path=\"url(#clip8602)\" style=\"fill:#0000ff; stroke:none; fill-opacity:1\" cx=\"1473.72\" cy=\"412.308\" r=\"14\"/>\n",
       "<circle clip-path=\"url(#clip8602)\" style=\"fill:#ffffff; stroke:none; fill-opacity:1\" cx=\"1473.72\" cy=\"412.308\" r=\"10\"/>\n",
       "<circle clip-path=\"url(#clip8602)\" style=\"fill:#0000ff; stroke:none; fill-opacity:1\" cx=\"1495.16\" cy=\"444.564\" r=\"14\"/>\n",
       "<circle clip-path=\"url(#clip8602)\" style=\"fill:#ffffff; stroke:none; fill-opacity:1\" cx=\"1495.16\" cy=\"444.564\" r=\"10\"/>\n",
       "<circle clip-path=\"url(#clip8602)\" style=\"fill:#0000ff; stroke:none; fill-opacity:1\" cx=\"1516.6\" cy=\"471.473\" r=\"14\"/>\n",
       "<circle clip-path=\"url(#clip8602)\" style=\"fill:#ffffff; stroke:none; fill-opacity:1\" cx=\"1516.6\" cy=\"471.473\" r=\"10\"/>\n",
       "<circle clip-path=\"url(#clip8602)\" style=\"fill:#0000ff; stroke:none; fill-opacity:1\" cx=\"1538.04\" cy=\"491.823\" r=\"14\"/>\n",
       "<circle clip-path=\"url(#clip8602)\" style=\"fill:#ffffff; stroke:none; fill-opacity:1\" cx=\"1538.04\" cy=\"491.823\" r=\"10\"/>\n",
       "<circle clip-path=\"url(#clip8602)\" style=\"fill:#0000ff; stroke:none; fill-opacity:1\" cx=\"1559.48\" cy=\"504.787\" r=\"14\"/>\n",
       "<circle clip-path=\"url(#clip8602)\" style=\"fill:#ffffff; stroke:none; fill-opacity:1\" cx=\"1559.48\" cy=\"504.787\" r=\"10\"/>\n",
       "<circle clip-path=\"url(#clip8602)\" style=\"fill:#0000ff; stroke:none; fill-opacity:1\" cx=\"1580.92\" cy=\"509.844\" r=\"14\"/>\n",
       "<circle clip-path=\"url(#clip8602)\" style=\"fill:#ffffff; stroke:none; fill-opacity:1\" cx=\"1580.92\" cy=\"509.844\" r=\"10\"/>\n",
       "<circle clip-path=\"url(#clip8602)\" style=\"fill:#0000ff; stroke:none; fill-opacity:1\" cx=\"1602.36\" cy=\"506.712\" r=\"14\"/>\n",
       "<circle clip-path=\"url(#clip8602)\" style=\"fill:#ffffff; stroke:none; fill-opacity:1\" cx=\"1602.36\" cy=\"506.712\" r=\"10\"/>\n",
       "<circle clip-path=\"url(#clip8602)\" style=\"fill:#0000ff; stroke:none; fill-opacity:1\" cx=\"1623.8\" cy=\"495.33\" r=\"14\"/>\n",
       "<circle clip-path=\"url(#clip8602)\" style=\"fill:#ffffff; stroke:none; fill-opacity:1\" cx=\"1623.8\" cy=\"495.33\" r=\"10\"/>\n",
       "<circle clip-path=\"url(#clip8602)\" style=\"fill:#0000ff; stroke:none; fill-opacity:1\" cx=\"1645.24\" cy=\"475.9\" r=\"14\"/>\n",
       "<circle clip-path=\"url(#clip8602)\" style=\"fill:#ffffff; stroke:none; fill-opacity:1\" cx=\"1645.24\" cy=\"475.9\" r=\"10\"/>\n",
       "<circle clip-path=\"url(#clip8602)\" style=\"fill:#0000ff; stroke:none; fill-opacity:1\" cx=\"1666.68\" cy=\"448.997\" r=\"14\"/>\n",
       "<circle clip-path=\"url(#clip8602)\" style=\"fill:#ffffff; stroke:none; fill-opacity:1\" cx=\"1666.68\" cy=\"448.997\" r=\"10\"/>\n",
       "<circle clip-path=\"url(#clip8602)\" style=\"fill:#0000ff; stroke:none; fill-opacity:1\" cx=\"1688.12\" cy=\"415.747\" r=\"14\"/>\n",
       "<circle clip-path=\"url(#clip8602)\" style=\"fill:#ffffff; stroke:none; fill-opacity:1\" cx=\"1688.12\" cy=\"415.747\" r=\"10\"/>\n",
       "<circle clip-path=\"url(#clip8602)\" style=\"fill:#0000ff; stroke:none; fill-opacity:1\" cx=\"1709.56\" cy=\"378.025\" r=\"14\"/>\n",
       "<circle clip-path=\"url(#clip8602)\" style=\"fill:#ffffff; stroke:none; fill-opacity:1\" cx=\"1709.56\" cy=\"378.025\" r=\"10\"/>\n",
       "<circle clip-path=\"url(#clip8602)\" style=\"fill:#0000ff; stroke:none; fill-opacity:1\" cx=\"1731\" cy=\"338.617\" r=\"14\"/>\n",
       "<circle clip-path=\"url(#clip8602)\" style=\"fill:#ffffff; stroke:none; fill-opacity:1\" cx=\"1731\" cy=\"338.617\" r=\"10\"/>\n",
       "<circle clip-path=\"url(#clip8602)\" style=\"fill:#0000ff; stroke:none; fill-opacity:1\" cx=\"1752.44\" cy=\"301.195\" r=\"14\"/>\n",
       "<circle clip-path=\"url(#clip8602)\" style=\"fill:#ffffff; stroke:none; fill-opacity:1\" cx=\"1752.44\" cy=\"301.195\" r=\"10\"/>\n",
       "<circle clip-path=\"url(#clip8602)\" style=\"fill:#0000ff; stroke:none; fill-opacity:1\" cx=\"1773.88\" cy=\"269.998\" r=\"14\"/>\n",
       "<circle clip-path=\"url(#clip8602)\" style=\"fill:#ffffff; stroke:none; fill-opacity:1\" cx=\"1773.88\" cy=\"269.998\" r=\"10\"/>\n",
       "<circle clip-path=\"url(#clip8602)\" style=\"fill:#0000ff; stroke:none; fill-opacity:1\" cx=\"1795.32\" cy=\"249.131\" r=\"14\"/>\n",
       "<circle clip-path=\"url(#clip8602)\" style=\"fill:#ffffff; stroke:none; fill-opacity:1\" cx=\"1795.32\" cy=\"249.131\" r=\"10\"/>\n",
       "<circle clip-path=\"url(#clip8602)\" style=\"fill:#0000ff; stroke:none; fill-opacity:1\" cx=\"1816.76\" cy=\"241.632\" r=\"14\"/>\n",
       "<circle clip-path=\"url(#clip8602)\" style=\"fill:#ffffff; stroke:none; fill-opacity:1\" cx=\"1816.76\" cy=\"241.632\" r=\"10\"/>\n",
       "<circle clip-path=\"url(#clip8602)\" style=\"fill:#0000ff; stroke:none; fill-opacity:1\" cx=\"1838.2\" cy=\"248.642\" r=\"14\"/>\n",
       "<circle clip-path=\"url(#clip8602)\" style=\"fill:#ffffff; stroke:none; fill-opacity:1\" cx=\"1838.2\" cy=\"248.642\" r=\"10\"/>\n",
       "<circle clip-path=\"url(#clip8602)\" style=\"fill:#0000ff; stroke:none; fill-opacity:1\" cx=\"1859.64\" cy=\"269.066\" r=\"14\"/>\n",
       "<circle clip-path=\"url(#clip8602)\" style=\"fill:#ffffff; stroke:none; fill-opacity:1\" cx=\"1859.64\" cy=\"269.066\" r=\"10\"/>\n",
       "<circle clip-path=\"url(#clip8602)\" style=\"fill:#0000ff; stroke:none; fill-opacity:1\" cx=\"1881.08\" cy=\"299.903\" r=\"14\"/>\n",
       "<circle clip-path=\"url(#clip8602)\" style=\"fill:#ffffff; stroke:none; fill-opacity:1\" cx=\"1881.08\" cy=\"299.903\" r=\"10\"/>\n",
       "<circle clip-path=\"url(#clip8602)\" style=\"fill:#0000ff; stroke:none; fill-opacity:1\" cx=\"1902.52\" cy=\"337.073\" r=\"14\"/>\n",
       "<circle clip-path=\"url(#clip8602)\" style=\"fill:#ffffff; stroke:none; fill-opacity:1\" cx=\"1902.52\" cy=\"337.073\" r=\"10\"/>\n",
       "<circle clip-path=\"url(#clip8602)\" style=\"fill:#0000ff; stroke:none; fill-opacity:1\" cx=\"1923.96\" cy=\"376.352\" r=\"14\"/>\n",
       "<circle clip-path=\"url(#clip8602)\" style=\"fill:#ffffff; stroke:none; fill-opacity:1\" cx=\"1923.96\" cy=\"376.352\" r=\"10\"/>\n",
       "<circle clip-path=\"url(#clip8602)\" style=\"fill:#0000ff; stroke:none; fill-opacity:1\" cx=\"1945.4\" cy=\"414.073\" r=\"14\"/>\n",
       "<circle clip-path=\"url(#clip8602)\" style=\"fill:#ffffff; stroke:none; fill-opacity:1\" cx=\"1945.4\" cy=\"414.073\" r=\"10\"/>\n",
       "<circle clip-path=\"url(#clip8602)\" style=\"fill:#0000ff; stroke:none; fill-opacity:1\" cx=\"1966.84\" cy=\"447.452\" r=\"14\"/>\n",
       "<circle clip-path=\"url(#clip8602)\" style=\"fill:#ffffff; stroke:none; fill-opacity:1\" cx=\"1966.84\" cy=\"447.452\" r=\"10\"/>\n",
       "<circle clip-path=\"url(#clip8602)\" style=\"fill:#0000ff; stroke:none; fill-opacity:1\" cx=\"1988.28\" cy=\"474.612\" r=\"14\"/>\n",
       "<circle clip-path=\"url(#clip8602)\" style=\"fill:#ffffff; stroke:none; fill-opacity:1\" cx=\"1988.28\" cy=\"474.612\" r=\"10\"/>\n",
       "<circle clip-path=\"url(#clip8602)\" style=\"fill:#0000ff; stroke:none; fill-opacity:1\" cx=\"2009.72\" cy=\"494.431\" r=\"14\"/>\n",
       "<circle clip-path=\"url(#clip8602)\" style=\"fill:#ffffff; stroke:none; fill-opacity:1\" cx=\"2009.72\" cy=\"494.431\" r=\"10\"/>\n",
       "<circle clip-path=\"url(#clip8602)\" style=\"fill:#0000ff; stroke:none; fill-opacity:1\" cx=\"2031.16\" cy=\"506.337\" r=\"14\"/>\n",
       "<circle clip-path=\"url(#clip8602)\" style=\"fill:#ffffff; stroke:none; fill-opacity:1\" cx=\"2031.16\" cy=\"506.337\" r=\"10\"/>\n",
       "<circle clip-path=\"url(#clip8602)\" style=\"fill:#0000ff; stroke:none; fill-opacity:1\" cx=\"2052.6\" cy=\"510.134\" r=\"14\"/>\n",
       "<circle clip-path=\"url(#clip8602)\" style=\"fill:#ffffff; stroke:none; fill-opacity:1\" cx=\"2052.6\" cy=\"510.134\" r=\"10\"/>\n",
       "<circle clip-path=\"url(#clip8602)\" style=\"fill:#0000ff; stroke:none; fill-opacity:1\" cx=\"2074.04\" cy=\"505.887\" r=\"14\"/>\n",
       "<circle clip-path=\"url(#clip8602)\" style=\"fill:#ffffff; stroke:none; fill-opacity:1\" cx=\"2074.04\" cy=\"505.887\" r=\"10\"/>\n",
       "<circle clip-path=\"url(#clip8602)\" style=\"fill:#0000ff; stroke:none; fill-opacity:1\" cx=\"2095.48\" cy=\"493.874\" r=\"14\"/>\n",
       "<circle clip-path=\"url(#clip8602)\" style=\"fill:#ffffff; stroke:none; fill-opacity:1\" cx=\"2095.48\" cy=\"493.874\" r=\"10\"/>\n",
       "<circle clip-path=\"url(#clip8602)\" style=\"fill:#0000ff; stroke:none; fill-opacity:1\" cx=\"2116.92\" cy=\"474.598\" r=\"14\"/>\n",
       "<circle clip-path=\"url(#clip8602)\" style=\"fill:#ffffff; stroke:none; fill-opacity:1\" cx=\"2116.92\" cy=\"474.598\" r=\"10\"/>\n",
       "<circle clip-path=\"url(#clip8602)\" style=\"fill:#0000ff; stroke:none; fill-opacity:1\" cx=\"2138.36\" cy=\"448.837\" r=\"14\"/>\n",
       "<circle clip-path=\"url(#clip8602)\" style=\"fill:#ffffff; stroke:none; fill-opacity:1\" cx=\"2138.36\" cy=\"448.837\" r=\"10\"/>\n",
       "<circle clip-path=\"url(#clip8602)\" style=\"fill:#0000ff; stroke:none; fill-opacity:1\" cx=\"2159.8\" cy=\"417.711\" r=\"14\"/>\n",
       "<circle clip-path=\"url(#clip8602)\" style=\"fill:#ffffff; stroke:none; fill-opacity:1\" cx=\"2159.8\" cy=\"417.711\" r=\"10\"/>\n",
       "<circle clip-path=\"url(#clip8602)\" style=\"fill:#0000ff; stroke:none; fill-opacity:1\" cx=\"2181.24\" cy=\"382.742\" r=\"14\"/>\n",
       "<circle clip-path=\"url(#clip8602)\" style=\"fill:#ffffff; stroke:none; fill-opacity:1\" cx=\"2181.24\" cy=\"382.742\" r=\"10\"/>\n",
       "<circle clip-path=\"url(#clip8602)\" style=\"fill:#0000ff; stroke:none; fill-opacity:1\" cx=\"2202.68\" cy=\"345.866\" r=\"14\"/>\n",
       "<circle clip-path=\"url(#clip8602)\" style=\"fill:#ffffff; stroke:none; fill-opacity:1\" cx=\"2202.68\" cy=\"345.866\" r=\"10\"/>\n",
       "<circle clip-path=\"url(#clip8602)\" style=\"fill:#0000ff; stroke:none; fill-opacity:1\" cx=\"2224.12\" cy=\"309.381\" r=\"14\"/>\n",
       "<circle clip-path=\"url(#clip8602)\" style=\"fill:#ffffff; stroke:none; fill-opacity:1\" cx=\"2224.12\" cy=\"309.381\" r=\"10\"/>\n",
       "<circle clip-path=\"url(#clip8602)\" style=\"fill:#0000ff; stroke:none; fill-opacity:1\" cx=\"2245.56\" cy=\"275.822\" r=\"14\"/>\n",
       "<circle clip-path=\"url(#clip8602)\" style=\"fill:#ffffff; stroke:none; fill-opacity:1\" cx=\"2245.56\" cy=\"275.822\" r=\"10\"/>\n",
       "<circle clip-path=\"url(#clip8602)\" style=\"fill:#0000ff; stroke:none; fill-opacity:1\" cx=\"2267\" cy=\"247.785\" r=\"14\"/>\n",
       "<circle clip-path=\"url(#clip8602)\" style=\"fill:#ffffff; stroke:none; fill-opacity:1\" cx=\"2267\" cy=\"247.785\" r=\"10\"/>\n",
       "<circle clip-path=\"url(#clip8602)\" style=\"fill:#0000ff; stroke:none; fill-opacity:1\" cx=\"2288.44\" cy=\"227.724\" r=\"14\"/>\n",
       "<circle clip-path=\"url(#clip8602)\" style=\"fill:#ffffff; stroke:none; fill-opacity:1\" cx=\"2288.44\" cy=\"227.724\" r=\"10\"/>\n",
       "<circle clip-path=\"url(#clip8602)\" style=\"fill:#0000ff; stroke:none; fill-opacity:1\" cx=\"2309.88\" cy=\"217.742\" r=\"14\"/>\n",
       "<circle clip-path=\"url(#clip8602)\" style=\"fill:#ffffff; stroke:none; fill-opacity:1\" cx=\"2309.88\" cy=\"217.742\" r=\"10\"/>\n",
       "<circle clip-path=\"url(#clip8602)\" style=\"fill:#0000ff; stroke:none; fill-opacity:1\" cx=\"2331.32\" cy=\"219.389\" r=\"14\"/>\n",
       "<circle clip-path=\"url(#clip8602)\" style=\"fill:#ffffff; stroke:none; fill-opacity:1\" cx=\"2331.32\" cy=\"219.389\" r=\"10\"/>\n",
       "<circle clip-path=\"url(#clip8602)\" style=\"fill:#0000ff; stroke:none; fill-opacity:1\" cx=\"2352.76\" cy=\"233.465\" r=\"14\"/>\n",
       "<circle clip-path=\"url(#clip8602)\" style=\"fill:#ffffff; stroke:none; fill-opacity:1\" cx=\"2352.76\" cy=\"233.465\" r=\"10\"/>\n",
       "<polyline clip-path=\"url(#clip8602)\" style=\"stroke:#ff0000; stroke-width:4; stroke-opacity:1; fill:none\" points=\"\n",
       "  208.77,258.406 230.21,273.755 251.65,298.693 273.09,335.372 294.53,385.254 315.97,448.202 337.41,521.78 358.849,601.102 380.289,679.461 401.729,749.683 \n",
       "  423.169,805.771 444.609,844.278 466.049,864.901 487.489,870.188 508.928,864.554 530.368,853.079 551.808,840.452 573.248,830.294 594.688,824.859 616.128,825.014 \n",
       "  637.568,830.375 659.007,839.539 680.447,850.393 701.887,860.515 723.327,867.659 744.767,870.233 766.207,867.659 787.646,860.515 809.086,850.393 830.526,839.539 \n",
       "  851.966,830.375 873.406,825.014 894.846,824.859 916.286,830.294 937.725,840.452 959.165,853.079 980.605,864.554 1002.05,870.188 1023.48,864.901 1044.92,844.278 \n",
       "  1066.36,805.771 1087.8,749.683 1109.24,679.461 1130.68,601.102 1152.12,521.78 1173.56,448.202 1195,385.254 1216.44,335.372 1237.88,298.693 1259.32,273.755 \n",
       "  1280.76,258.406 1302.2,250.593 1323.64,248.888 1345.08,252.665 1366.52,261.997 1387.96,277.323 1409.4,299.002 1430.84,326.876 1452.28,359.967 1473.72,396.42 \n",
       "  1495.16,433.69 1516.6,468.919 1538.04,499.345 1559.48,522.606 1580.92,536.874 1602.36,540.834 1623.8,533.6 1645.24,514.707 1666.68,484.267 1688.12,443.302 \n",
       "  1709.56,394.179 1731,340.922 1752.44,289.146 1773.88,245.424 1795.32,216.081 1816.76,205.734 1838.2,216.081 1859.64,245.424 1881.08,289.146 1902.52,340.922 \n",
       "  1923.96,394.179 1945.4,443.302 1966.84,484.267 1988.28,514.707 2009.72,533.6 2031.16,540.834 2052.6,536.874 2074.04,522.606 2095.48,499.345 2116.92,468.919 \n",
       "  2138.36,433.69 2159.8,396.42 2181.24,359.967 2202.68,326.876 2224.12,299.002 2245.56,277.323 2267,261.997 2288.44,252.665 2309.88,248.888 2331.32,250.593 \n",
       "  2352.76,258.406 \n",
       "  \"/>\n",
       "<polyline clip-path=\"url(#clip8602)\" style=\"stroke:#000000; stroke-width:4; stroke-opacity:1; fill:none\" stroke-dasharray=\"16, 10\" points=\"\n",
       "  208.77,1157.12 230.21,1129.76 251.65,1084.57 273.09,1023.99 294.53,953.274 315.97,879.406 337.41,809.539 358.849,749.534 380.289,703.061 401.729,671.389 \n",
       "  423.169,653.722 444.609,647.849 466.049,650.845 487.489,659.68 508.928,671.651 530.368,684.618 551.808,697.073 573.248,708.101 594.688,717.269 616.128,724.498 \n",
       "  637.568,729.93 659.007,733.826 680.447,736.478 701.887,738.157 723.327,739.077 744.767,739.372 766.207,739.086 787.646,738.174 809.086,736.5 830.526,733.849 \n",
       "  851.966,729.947 873.406,724.496 894.846,717.234 916.286,708.014 937.725,696.918 959.165,684.379 980.605,671.324 1002.05,659.273 1023.48,650.394 1044.92,647.422 \n",
       "  1066.36,653.43 1087.8,671.401 1109.24,703.615 1130.68,750.945 1152.12,812.209 1173.56,883.815 1195,959.952 1216.44,1033.44 1237.88,1097.14 1259.32,1145.46 \n",
       "  1280.76,1175.38 1302.2,1186.6 1323.64,1180.84 1345.08,1160.76 1366.52,1129.12 1387.96,1088.45 1409.4,1041.12 1430.84,989.663 1452.28,936.889 1473.72,885.73 \n",
       "  1495.16,838.969 1516.6,798.943 1538.04,767.408 1559.48,745.601 1580.92,734.431 1602.36,734.713 1623.8,747.336 1645.24,773.245 1666.68,813.157 1688.12,866.974 \n",
       "  1709.56,932.918 1731,1006.63 1752.44,1080.71 1773.88,1145.22 1795.32,1189.61 1816.76,1205.63 1838.2,1190.18 1859.64,1146.36 1881.08,1082.42 1902.52,1008.89 \n",
       "  1923.96,935.711 1945.4,870.261 1966.84,816.872 1988.28,777.288 2009.72,751.566 2031.16,738.932 2052.6,738.374 2074.04,748.922 2095.48,769.654 2116.92,799.544 \n",
       "  2138.36,837.225 2159.8,880.824 2181.24,927.937 2202.68,975.839 2224.12,1021.85 2245.56,1063.76 2267,1100 2288.44,1129.56 2309.88,1151.52 2331.32,1164.64 \n",
       "  2352.76,1167.14 \n",
       "  \"/>\n",
       "<path clip-path=\"url(#clip8600)\" d=\"\n",
       "M280.77 1343.47 L673.306 1343.47 L673.306 1101.55 L280.77 1101.55  Z\n",
       "  \" fill=\"#ffffff\" fill-rule=\"evenodd\" fill-opacity=\"1\"/>\n",
       "<polyline clip-path=\"url(#clip8600)\" style=\"stroke:#000000; stroke-width:4; stroke-opacity:1; fill:none\" points=\"\n",
       "  280.77,1343.47 673.306,1343.47 673.306,1101.55 280.77,1101.55 280.77,1343.47 \n",
       "  \"/>\n",
       "<circle clip-path=\"url(#clip8600)\" style=\"fill:#0000ff; stroke:none; fill-opacity:1\" cx=\"388.77\" cy=\"1162.03\" r=\"25\"/>\n",
       "<circle clip-path=\"url(#clip8600)\" style=\"fill:#ffffff; stroke:none; fill-opacity:1\" cx=\"388.77\" cy=\"1162.03\" r=\"21\"/>\n",
       "<g clip-path=\"url(#clip8600)\">\n",
       "<text style=\"fill:#000000; fill-opacity:1; font-family:Symbol; font-size:52px; text-anchor:start;\" transform=\"rotate(0, 472.77, 1169.94)\" x=\"472.77\" y=\"1169.94\">Ψ</text>\n",
       "</g>\n",
       "<g clip-path=\"url(#clip8600)\">\n",
       "<text style=\"fill:#000000; fill-opacity:1; font-family:Arial,Helvetica Neue,Helvetica,sans-serif; font-size:38px; text-anchor:start;\" transform=\"rotate(0, 513.963, 1183.57)\" x=\"513.963\" y=\"1183.57\">i</text>\n",
       "</g>\n",
       "<polyline clip-path=\"url(#clip8600)\" style=\"stroke:#ff0000; stroke-width:4; stroke-opacity:1; fill:none\" points=\"\n",
       "  304.77,1222.51 448.77,1222.51 \n",
       "  \"/>\n",
       "<g clip-path=\"url(#clip8600)\">\n",
       "<text style=\"fill:#000000; fill-opacity:1; font-family:Symbol; font-size:52px; text-anchor:start;\" transform=\"rotate(0, 472.77, 1230.42)\" x=\"472.77\" y=\"1230.42\">Ψ</text>\n",
       "</g>\n",
       "<g clip-path=\"url(#clip8600)\">\n",
       "<text style=\"fill:#000000; fill-opacity:1; font-family:Arial,Helvetica Neue,Helvetica,sans-serif; font-size:38px; text-anchor:start;\" transform=\"rotate(0, 513.963, 1244.05)\" x=\"513.963\" y=\"1244.05\">0</text>\n",
       "</g>\n",
       "<polyline clip-path=\"url(#clip8600)\" style=\"stroke:#000000; stroke-width:4; stroke-opacity:1; fill:none\" stroke-dasharray=\"16, 10\" points=\"\n",
       "  304.77,1282.99 448.77,1282.99 \n",
       "  \"/>\n",
       "<g clip-path=\"url(#clip8600)\">\n",
       "<text style=\"fill:#000000; fill-opacity:1; font-family:Arial,Helvetica Neue,Helvetica,sans-serif; font-size:48px; text-anchor:start;\" transform=\"rotate(0, 472.77, 1300.49)\" x=\"472.77\" y=\"1300.49\">V/1000</text>\n",
       "</g>\n",
       "</svg>\n"
      ]
     },
     "execution_count": 13,
     "metadata": {},
     "output_type": "execute_result"
    }
   ],
   "source": [
    "scatter(x, Ψ, label = \"\\\\Psi_i\",\n",
    "        markersize = 3,\n",
    "        markerstrokecolor = :blue,\n",
    "        markercolor = :white)\n",
    "\n",
    "plot!(x, Ψ0, label = \"\\\\Psi_0\",\n",
    "      color = :red)\n",
    "\n",
    "plot!(x, V / 1000, label = \"V/1000\",\n",
    "      linestyle = :dash,\n",
    "      color = :black)\n",
    "\n",
    "plot!(xlims = (-1, 1),\n",
    "      xticks = -1:0.2:1,\n",
    "      ylims = (-0.15, 0.2),\n",
    "      yticks = -0.15:0.05:0.2,\n",
    "      grid = false,\n",
    "      legend = :bottomleft,\n",
    "      fmt = :svg,\n",
    "      framestyle = :box)"
   ]
  },
  {
   "cell_type": "markdown",
   "metadata": {},
   "source": [
    "That's pretty good, considering it took only a minute on my Thinkpad laptop to optimize 100 dimensional case and the function is not trivial!"
   ]
  }
 ],
 "metadata": {
  "@webio": {
   "lastCommId": null,
   "lastKernelId": null
  },
  "kernelspec": {
   "display_name": "Julia 1.3.1",
   "language": "julia",
   "name": "julia-1.3"
  },
  "language_info": {
   "file_extension": ".jl",
   "mimetype": "application/julia",
   "name": "julia",
   "version": "1.3.1"
  }
 },
 "nbformat": 4,
 "nbformat_minor": 2
}
