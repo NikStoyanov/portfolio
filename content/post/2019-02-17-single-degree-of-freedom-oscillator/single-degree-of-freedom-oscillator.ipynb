{
 "cells": [
  {
   "cell_type": "markdown",
   "metadata": {},
   "source": [
    "Numerical modeling requires validation, validation and more validation! In my work for my PhD I had to model a multidegree of freedom vibration problem. However, for confidence in the results I also need to compare it with a single degree of freedom to see how well it fares. So what better chance to learn how to solve differential equations in Julia! In this post I am learning how to use the DifferentialEquations package."
   ]
  },
  {
   "cell_type": "markdown",
   "metadata": {},
   "source": [
    "***"
   ]
  },
  {
   "cell_type": "markdown",
   "metadata": {},
   "source": [
    "First some editorial work. The javascript code below will activate the display of the MathJax equation numbering."
   ]
  },
  {
   "cell_type": "markdown",
   "metadata": {},
   "source": [
    "%%javascript\n",
    "MathJax.Hub.Config({\n",
    "    TeX: { equationNumbers: { autoNumber: \"AMS\" } }\n",
    "});"
   ]
  },
  {
   "cell_type": "markdown",
   "metadata": {},
   "source": [
    "# The simple harmonic oscillator"
   ]
  },
  {
   "cell_type": "markdown",
   "metadata": {},
   "source": [
    "The simple harmonic oscillator can be represented by a frictionless cart with mass, $m$, that moves in one dimension, $x$, hence single degree of freedom (SDOF). An excitation force, $F(t)$, is applied and the model is balanced by the stiffness, $k$, and damping, $c$, of the cart and connection. Based on the properties different dynamic phenomena can be observed."
   ]
  },
  {
   "attachments": {
    "image.png": {
     "image/png": "[encoded data removed]"
    }
   },
   "cell_type": "markdown",
   "metadata": {},
   "source": [
    "![image.png](attachment:image.png)"
   ]
  },
  {
   "cell_type": "markdown",
   "metadata": {},
   "source": [
    "Written mathematically the above is expressed in Equation 1."
   ]
  },
  {
   "cell_type": "markdown",
   "metadata": {},
   "source": [
    "$$\n",
    "\\begin{equation}\n",
    "m \\frac{d^2 y}{d t^2} + c \\frac{d y}{d t} + k y = f(t)\n",
    "\\end{equation}\n",
    "$$"
   ]
  },
  {
   "cell_type": "markdown",
   "metadata": {},
   "source": [
    "This is a non-homogeneous second order ordinary differential equation with constant coefficients (whew that was long). To solve it we can to reduce it to a first order differential equation. We can do this by writing Equation 1 as a system of equations shown in Equation 2 and 3."
   ]
  },
  {
   "cell_type": "markdown",
   "metadata": {},
   "source": [
    "$$\n",
    "\\begin{equation}\n",
    "\\begin{bmatrix}\n",
    "m & 0\\\\\n",
    "0 & 1\\\\\n",
    "\\end{bmatrix}\n",
    "\\begin{bmatrix}\n",
    "\\ddot{x}\\\\\n",
    "\\dot{x}\n",
    "\\end{bmatrix}\n",
    "+\n",
    "\\begin{bmatrix}\n",
    "c & k\\\\\n",
    "-1 & 0\\\\\n",
    "\\end{bmatrix}\n",
    "\\begin{bmatrix}\n",
    "\\dot{x}\\\\\n",
    "x\n",
    "\\end{bmatrix}\n",
    "=\n",
    "\\begin{bmatrix}\n",
    "f(t)\\\\\n",
    "0\n",
    "\\end{bmatrix}\n",
    "\\end{equation}\n",
    "$$"
   ]
  },
  {
   "cell_type": "markdown",
   "metadata": {},
   "source": [
    "$$\n",
    "\\begin{equation}\n",
    "\\begin{aligned}\n",
    "\\dot{Y} &= \\begin{bmatrix} \\ddot{x}\\\\ \\dot{x} \\end{bmatrix}\\\\\n",
    "Y &= \\begin{bmatrix} \\dot{x}\\\\ x \\end{bmatrix}\n",
    "\\end{aligned}\n",
    "\\end{equation}\n",
    "$$"
   ]
  },
  {
   "cell_type": "markdown",
   "metadata": {},
   "source": [
    "We can now substitute Equations 2 and 3 into Equation 1 and obtain Equation 4."
   ]
  },
  {
   "cell_type": "markdown",
   "metadata": {},
   "source": [
    "$$\n",
    "\\begin{equation}\n",
    "A\\dot{Y} + BY = C\n",
    "\\end{equation}\n",
    "$$"
   ]
  },
  {
   "cell_type": "markdown",
   "metadata": {},
   "source": [
    "Next we need to define the matrices *A*, *B* and *C* from Equation 1 and 4."
   ]
  },
  {
   "cell_type": "code",
   "execution_count": 37,
   "metadata": {},
   "outputs": [],
   "source": [
    "A = [2. 0.\n",
    "     0. 1.]\n",
    "B = [0.01 0.1\n",
    "     -1. 0.]\n",
    "C = [1.\n",
    "     0.];"
   ]
  },
  {
   "cell_type": "markdown",
   "metadata": {},
   "source": [
    "Here we set the mass, $m=2$, damping, $c=0.01$ and stiffness, $k=0.1$."
   ]
  },
  {
   "cell_type": "markdown",
   "metadata": {},
   "source": [
    "Using **DifferentialEquations.jl** we can solve the ODE. I am also using the **DiffEqCallbacks.jl** package to call custom functions in order to implement the excitation force, $f(t)$."
   ]
  },
  {
   "cell_type": "code",
   "execution_count": 44,
   "metadata": {},
   "outputs": [],
   "source": [
    "using DifferentialEquations\n",
    "using DiffEqCallbacks\n",
    "using Plots"
   ]
  },
  {
   "cell_type": "markdown",
   "metadata": {},
   "source": [
    "To solve the equation we can invert matrix **A**. This is really not a problem here since it is tiny. We also set the initial conditions which in our case are the speed, $dx/dt$ and the displacement, $x$."
   ]
  },
  {
   "cell_type": "code",
   "execution_count": 45,
   "metadata": {},
   "outputs": [],
   "source": [
    "sdof(y, p, t) = inv(A) * (-B * y + C)\n",
    "u0 = rand(2, 1)\n",
    "tspan = (0.0, 100.0);"
   ]
  },
  {
   "cell_type": "markdown",
   "metadata": {},
   "source": [
    "Next we need to define the callback functions. The idea is that every time step $\\delta t$ the functions will be called and update the excitation force. In **DiffEqCallbacks** this is done using a condition i.e. what causes the event and what effect it has. In our model we want the event to be called continuous which means we can use a simple function to always return true and the affect is to mutate the matrix **C**."
   ]
  },
  {
   "cell_type": "code",
   "execution_count": 46,
   "metadata": {},
   "outputs": [
    {
     "data": {
      "text/plain": [
       "ContinuousCallback{typeof(condition),typeof(affect!),typeof(affect!),typeof(DiffEqBase.INITIALIZE_DEFAULT),Float64,Int64,Nothing}(condition, affect!, affect!, DiffEqBase.INITIALIZE_DEFAULT, nothing, true, 10, Bool[true, true], 2.220446049250313e-15, 0)"
      ]
     },
     "execution_count": 46,
     "metadata": {},
     "output_type": "execute_result"
    }
   ],
   "source": [
    "function condition(y, t, integrator)\n",
    "    true\n",
    "end\n",
    "\n",
    "function affect!(integrator)\n",
    "    C = [sin(2 * π * integrator.t)\n",
    "         0.]\n",
    "end\n",
    "\n",
    "cb = ContinuousCallback(condition, affect!)"
   ]
  },
  {
   "cell_type": "code",
   "execution_count": 50,
   "metadata": {},
   "outputs": [
    {
     "data": {
      "image/svg+xml": [
       "<?xml version=\"1.0\" encoding=\"utf-8\"?>\n",
       "<svg xmlns=\"http://www.w3.org/2000/svg\" xmlns:xlink=\"http://www.w3.org/1999/xlink\" width=\"600\" height=\"400\" viewBox=\"0 0 2400 1600\">\n",
       "<defs>\n",
       "  <clipPath id=\"clip2500\">\n",
       "    <rect x=\"0\" y=\"0\" width=\"2000\" height=\"2000\"/>\n",
       "  </clipPath>\n",
       "</defs>\n",
       "<defs>\n",
       "  <clipPath id=\"clip2501\">\n",
       "    <rect x=\"0\" y=\"0\" width=\"2400\" height=\"1600\"/>\n",
       "  </clipPath>\n",
       "</defs>\n",
       "<polygon clip-path=\"url(#clip2501)\" points=\"\n",
       "0,1600 2400,1600 2400,0 0,0 \n",
       "  \" fill=\"#ffffff\" fill-rule=\"evenodd\" fill-opacity=\"1\"/>\n",
       "<defs>\n",
       "  <clipPath id=\"clip2502\">\n",
       "    <rect x=\"480\" y=\"0\" width=\"1681\" height=\"1600\"/>\n",
       "  </clipPath>\n",
       "</defs>\n",
       "<polygon clip-path=\"url(#clip2501)\" points=\"\n",
       "148.013,1440.48 2321.26,1440.48 2321.26,47.2441 148.013,47.2441 \n",
       "  \" fill=\"#ffffff\" fill-rule=\"evenodd\" fill-opacity=\"1\"/>\n",
       "<defs>\n",
       "  <clipPath id=\"clip2503\">\n",
       "    <rect x=\"148\" y=\"47\" width=\"2174\" height=\"1394\"/>\n",
       "  </clipPath>\n",
       "</defs>\n",
       "<polyline clip-path=\"url(#clip2503)\" style=\"stroke:#000000; stroke-width:2; stroke-opacity:0.1; fill:none\" points=\"\n",
       "  148.013,1440.48 148.013,47.2441 \n",
       "  \"/>\n",
       "<polyline clip-path=\"url(#clip2503)\" style=\"stroke:#000000; stroke-width:2; stroke-opacity:0.1; fill:none\" points=\"\n",
       "  582.662,1440.48 582.662,47.2441 \n",
       "  \"/>\n",
       "<polyline clip-path=\"url(#clip2503)\" style=\"stroke:#000000; stroke-width:2; stroke-opacity:0.1; fill:none\" points=\"\n",
       "  1017.31,1440.48 1017.31,47.2441 \n",
       "  \"/>\n",
       "<polyline clip-path=\"url(#clip2503)\" style=\"stroke:#000000; stroke-width:2; stroke-opacity:0.1; fill:none\" points=\"\n",
       "  1451.96,1440.48 1451.96,47.2441 \n",
       "  \"/>\n",
       "<polyline clip-path=\"url(#clip2503)\" style=\"stroke:#000000; stroke-width:2; stroke-opacity:0.1; fill:none\" points=\"\n",
       "  1886.61,1440.48 1886.61,47.2441 \n",
       "  \"/>\n",
       "<polyline clip-path=\"url(#clip2503)\" style=\"stroke:#000000; stroke-width:2; stroke-opacity:0.1; fill:none\" points=\"\n",
       "  2321.26,1440.48 2321.26,47.2441 \n",
       "  \"/>\n",
       "<polyline clip-path=\"url(#clip2503)\" style=\"stroke:#000000; stroke-width:2; stroke-opacity:0.1; fill:none\" points=\"\n",
       "  148.013,1274.43 2321.26,1274.43 \n",
       "  \"/>\n",
       "<polyline clip-path=\"url(#clip2503)\" style=\"stroke:#000000; stroke-width:2; stroke-opacity:0.1; fill:none\" points=\"\n",
       "  148.013,968.631 2321.26,968.631 \n",
       "  \"/>\n",
       "<polyline clip-path=\"url(#clip2503)\" style=\"stroke:#000000; stroke-width:2; stroke-opacity:0.1; fill:none\" points=\"\n",
       "  148.013,662.828 2321.26,662.828 \n",
       "  \"/>\n",
       "<polyline clip-path=\"url(#clip2503)\" style=\"stroke:#000000; stroke-width:2; stroke-opacity:0.1; fill:none\" points=\"\n",
       "  148.013,357.026 2321.26,357.026 \n",
       "  \"/>\n",
       "<polyline clip-path=\"url(#clip2503)\" style=\"stroke:#000000; stroke-width:2; stroke-opacity:0.1; fill:none\" points=\"\n",
       "  148.013,51.2243 2321.26,51.2243 \n",
       "  \"/>\n",
       "<polyline clip-path=\"url(#clip2501)\" style=\"stroke:#000000; stroke-width:4; stroke-opacity:1; fill:none\" points=\"\n",
       "  148.013,1440.48 2321.26,1440.48 \n",
       "  \"/>\n",
       "<polyline clip-path=\"url(#clip2501)\" style=\"stroke:#000000; stroke-width:4; stroke-opacity:1; fill:none\" points=\"\n",
       "  148.013,1440.48 148.013,47.2441 \n",
       "  \"/>\n",
       "<polyline clip-path=\"url(#clip2501)\" style=\"stroke:#000000; stroke-width:4; stroke-opacity:1; fill:none\" points=\"\n",
       "  148.013,1440.48 148.013,1419.58 \n",
       "  \"/>\n",
       "<polyline clip-path=\"url(#clip2501)\" style=\"stroke:#000000; stroke-width:4; stroke-opacity:1; fill:none\" points=\"\n",
       "  582.662,1440.48 582.662,1419.58 \n",
       "  \"/>\n",
       "<polyline clip-path=\"url(#clip2501)\" style=\"stroke:#000000; stroke-width:4; stroke-opacity:1; fill:none\" points=\"\n",
       "  1017.31,1440.48 1017.31,1419.58 \n",
       "  \"/>\n",
       "<polyline clip-path=\"url(#clip2501)\" style=\"stroke:#000000; stroke-width:4; stroke-opacity:1; fill:none\" points=\"\n",
       "  1451.96,1440.48 1451.96,1419.58 \n",
       "  \"/>\n",
       "<polyline clip-path=\"url(#clip2501)\" style=\"stroke:#000000; stroke-width:4; stroke-opacity:1; fill:none\" points=\"\n",
       "  1886.61,1440.48 1886.61,1419.58 \n",
       "  \"/>\n",
       "<polyline clip-path=\"url(#clip2501)\" style=\"stroke:#000000; stroke-width:4; stroke-opacity:1; fill:none\" points=\"\n",
       "  2321.26,1440.48 2321.26,1419.58 \n",
       "  \"/>\n",
       "<polyline clip-path=\"url(#clip2501)\" style=\"stroke:#000000; stroke-width:4; stroke-opacity:1; fill:none\" points=\"\n",
       "  148.013,1274.43 180.612,1274.43 \n",
       "  \"/>\n",
       "<polyline clip-path=\"url(#clip2501)\" style=\"stroke:#000000; stroke-width:4; stroke-opacity:1; fill:none\" points=\"\n",
       "  148.013,968.631 180.612,968.631 \n",
       "  \"/>\n",
       "<polyline clip-path=\"url(#clip2501)\" style=\"stroke:#000000; stroke-width:4; stroke-opacity:1; fill:none\" points=\"\n",
       "  148.013,662.828 180.612,662.828 \n",
       "  \"/>\n",
       "<polyline clip-path=\"url(#clip2501)\" style=\"stroke:#000000; stroke-width:4; stroke-opacity:1; fill:none\" points=\"\n",
       "  148.013,357.026 180.612,357.026 \n",
       "  \"/>\n",
       "<polyline clip-path=\"url(#clip2501)\" style=\"stroke:#000000; stroke-width:4; stroke-opacity:1; fill:none\" points=\"\n",
       "  148.013,51.2243 180.612,51.2243 \n",
       "  \"/>\n",
       "<g clip-path=\"url(#clip2501)\">\n",
       "<text style=\"fill:#000000; fill-opacity:1; font-family:Arial,Helvetica Neue,Helvetica,sans-serif; font-size:48px; text-anchor:middle;\" transform=\"rotate(0, 148.013, 1494.48)\" x=\"148.013\" y=\"1494.48\">0</text>\n",
       "</g>\n",
       "<g clip-path=\"url(#clip2501)\">\n",
       "<text style=\"fill:#000000; fill-opacity:1; font-family:Arial,Helvetica Neue,Helvetica,sans-serif; font-size:48px; text-anchor:middle;\" transform=\"rotate(0, 582.662, 1494.48)\" x=\"582.662\" y=\"1494.48\">20</text>\n",
       "</g>\n",
       "<g clip-path=\"url(#clip2501)\">\n",
       "<text style=\"fill:#000000; fill-opacity:1; font-family:Arial,Helvetica Neue,Helvetica,sans-serif; font-size:48px; text-anchor:middle;\" transform=\"rotate(0, 1017.31, 1494.48)\" x=\"1017.31\" y=\"1494.48\">40</text>\n",
       "</g>\n",
       "<g clip-path=\"url(#clip2501)\">\n",
       "<text style=\"fill:#000000; fill-opacity:1; font-family:Arial,Helvetica Neue,Helvetica,sans-serif; font-size:48px; text-anchor:middle;\" transform=\"rotate(0, 1451.96, 1494.48)\" x=\"1451.96\" y=\"1494.48\">60</text>\n",
       "</g>\n",
       "<g clip-path=\"url(#clip2501)\">\n",
       "<text style=\"fill:#000000; fill-opacity:1; font-family:Arial,Helvetica Neue,Helvetica,sans-serif; font-size:48px; text-anchor:middle;\" transform=\"rotate(0, 1886.61, 1494.48)\" x=\"1886.61\" y=\"1494.48\">80</text>\n",
       "</g>\n",
       "<g clip-path=\"url(#clip2501)\">\n",
       "<text style=\"fill:#000000; fill-opacity:1; font-family:Arial,Helvetica Neue,Helvetica,sans-serif; font-size:48px; text-anchor:middle;\" transform=\"rotate(0, 2321.26, 1494.48)\" x=\"2321.26\" y=\"1494.48\">100</text>\n",
       "</g>\n",
       "<g clip-path=\"url(#clip2501)\">\n",
       "<text style=\"fill:#000000; fill-opacity:1; font-family:Arial,Helvetica Neue,Helvetica,sans-serif; font-size:48px; text-anchor:end;\" transform=\"rotate(0, 124.013, 1291.93)\" x=\"124.013\" y=\"1291.93\">0</text>\n",
       "</g>\n",
       "<g clip-path=\"url(#clip2501)\">\n",
       "<text style=\"fill:#000000; fill-opacity:1; font-family:Arial,Helvetica Neue,Helvetica,sans-serif; font-size:48px; text-anchor:end;\" transform=\"rotate(0, 124.013, 986.131)\" x=\"124.013\" y=\"986.131\">5</text>\n",
       "</g>\n",
       "<g clip-path=\"url(#clip2501)\">\n",
       "<text style=\"fill:#000000; fill-opacity:1; font-family:Arial,Helvetica Neue,Helvetica,sans-serif; font-size:48px; text-anchor:end;\" transform=\"rotate(0, 124.013, 680.328)\" x=\"124.013\" y=\"680.328\">10</text>\n",
       "</g>\n",
       "<g clip-path=\"url(#clip2501)\">\n",
       "<text style=\"fill:#000000; fill-opacity:1; font-family:Arial,Helvetica Neue,Helvetica,sans-serif; font-size:48px; text-anchor:end;\" transform=\"rotate(0, 124.013, 374.526)\" x=\"124.013\" y=\"374.526\">15</text>\n",
       "</g>\n",
       "<g clip-path=\"url(#clip2501)\">\n",
       "<text style=\"fill:#000000; fill-opacity:1; font-family:Arial,Helvetica Neue,Helvetica,sans-serif; font-size:48px; text-anchor:end;\" transform=\"rotate(0, 124.013, 68.7243)\" x=\"124.013\" y=\"68.7243\">20</text>\n",
       "</g>\n",
       "<g clip-path=\"url(#clip2501)\">\n",
       "<text style=\"fill:#000000; fill-opacity:1; font-family:Arial,Helvetica Neue,Helvetica,sans-serif; font-size:66px; text-anchor:middle;\" transform=\"rotate(0, 1234.64, 1590.4)\" x=\"1234.64\" y=\"1590.4\">t</text>\n",
       "</g>\n",
       "<polyline clip-path=\"url(#clip2503)\" style=\"stroke:#009af9; stroke-width:12; stroke-opacity:1; fill:none\" points=\"\n",
       "  148.013,1225.36 150.188,1222.62 152.364,1219.91 154.539,1217.22 156.715,1214.57 158.89,1211.95 161.065,1209.36 163.241,1206.81 165.416,1204.29 167.592,1201.8 \n",
       "  169.767,1199.36 171.943,1196.95 174.118,1194.58 176.293,1192.26 178.469,1189.98 180.644,1187.74 182.82,1185.54 184.995,1183.39 187.17,1181.29 189.346,1179.23 \n",
       "  191.521,1177.23 193.697,1175.27 195.872,1173.36 198.048,1171.51 200.223,1169.71 202.398,1167.96 204.574,1166.26 206.749,1164.62 208.925,1163.04 211.1,1161.51 \n",
       "  213.276,1160.04 215.451,1158.63 217.626,1157.28 219.802,1155.98 221.977,1154.75 224.153,1153.58 226.328,1152.46 228.503,1151.41 230.679,1150.43 232.854,1149.5 \n",
       "  235.03,1148.64 237.205,1147.84 239.381,1147.1 241.556,1146.43 243.731,1145.82 245.907,1145.28 248.082,1144.8 250.258,1144.39 252.433,1144.05 254.609,1143.77 \n",
       "  256.784,1143.55 258.959,1143.4 261.135,1143.32 263.31,1143.3 265.486,1143.34 267.661,1143.46 269.837,1143.63 272.012,1143.88 274.187,1144.19 276.363,1144.56 \n",
       "  278.538,1145 280.714,1145.5 282.889,1146.07 285.064,1146.7 287.24,1147.4 289.415,1148.16 291.591,1148.98 293.766,1149.86 295.942,1150.81 298.117,1151.82 \n",
       "  300.292,1152.89 302.468,1154.02 304.643,1155.2 306.819,1156.45 308.994,1157.76 311.17,1159.12 313.345,1160.54 315.52,1162.02 317.696,1163.55 319.871,1165.14 \n",
       "  322.047,1166.78 324.222,1168.48 326.398,1170.22 328.573,1172.02 330.748,1173.87 332.924,1175.77 335.099,1177.71 337.275,1179.71 339.45,1181.75 341.625,1183.83 \n",
       "  343.801,1185.96 345.976,1188.14 348.152,1190.35 350.327,1192.61 352.503,1194.91 354.678,1197.24 356.853,1199.61 359.029,1202.02 361.204,1204.47 363.38,1206.95 \n",
       "  365.555,1209.46 367.731,1212 369.906,1214.57 372.081,1217.17 374.257,1219.8 376.432,1222.45 378.608,1225.13 380.783,1227.83 382.958,1230.55 385.134,1233.3 \n",
       "  387.309,1236.06 389.485,1238.84 391.66,1241.64 393.836,1244.45 396.011,1247.28 398.186,1250.12 400.362,1252.97 402.537,1255.83 404.713,1258.69 406.888,1261.57 \n",
       "  409.064,1264.45 411.239,1267.33 413.414,1270.21 415.59,1273.1 417.765,1275.98 419.941,1278.86 422.116,1281.74 424.292,1284.61 426.467,1287.48 428.642,1290.34 \n",
       "  430.818,1293.19 432.993,1296.02 435.169,1298.85 437.344,1301.66 439.519,1304.46 441.695,1307.24 443.87,1310 446.046,1312.75 448.221,1315.47 450.397,1318.17 \n",
       "  452.572,1320.85 454.747,1323.5 456.923,1326.13 459.098,1328.73 461.274,1331.3 463.449,1333.84 465.625,1336.35 467.8,1338.83 469.975,1341.28 472.151,1343.69 \n",
       "  474.326,1346.06 476.502,1348.4 478.677,1350.7 480.852,1352.96 483.028,1355.18 485.203,1357.36 487.379,1359.49 489.554,1361.59 491.73,1363.63 493.905,1365.63 \n",
       "  496.08,1367.59 498.256,1369.5 500.431,1371.35 502.607,1373.16 504.782,1374.92 506.958,1376.63 509.133,1378.28 511.308,1379.89 513.484,1381.43 515.659,1382.93 \n",
       "  517.835,1384.37 520.01,1385.75 522.186,1387.08 524.361,1388.35 526.536,1389.56 528.712,1390.71 530.887,1391.81 533.063,1392.84 535.238,1393.82 537.413,1394.74 \n",
       "  539.589,1395.59 541.764,1396.39 543.94,1397.12 546.115,1397.79 548.291,1398.4 550.466,1398.95 552.641,1399.43 554.817,1399.85 556.992,1400.21 559.168,1400.51 \n",
       "  561.343,1400.74 563.519,1400.91 565.694,1401.01 567.869,1401.05 570.045,1401.03 572.22,1400.94 574.396,1400.79 576.571,1400.58 578.747,1400.3 580.922,1399.97 \n",
       "  583.097,1399.56 585.273,1399.1 587.448,1398.57 589.624,1397.99 591.799,1397.34 593.974,1396.62 596.15,1395.85 598.325,1395.02 600.501,1394.13 602.676,1393.18 \n",
       "  604.852,1392.17 607.027,1391.1 609.202,1389.97 611.378,1388.79 613.553,1387.55 615.729,1386.25 617.904,1384.9 620.08,1383.49 622.255,1382.03 624.43,1380.52 \n",
       "  626.606,1378.95 628.781,1377.34 630.957,1375.67 633.132,1373.95 635.307,1372.18 637.483,1370.37 639.658,1368.51 641.834,1366.6 644.009,1364.65 646.185,1362.65 \n",
       "  648.36,1360.61 650.535,1358.52 652.711,1356.4 654.886,1354.23 657.062,1352.03 659.237,1349.79 661.413,1347.51 663.588,1345.19 665.763,1342.84 667.939,1340.46 \n",
       "  670.114,1338.05 672.29,1335.61 674.465,1333.13 676.641,1330.63 678.816,1328.1 680.991,1325.55 683.167,1322.97 685.342,1320.37 687.518,1317.75 689.693,1315.11 \n",
       "  691.868,1312.44 694.044,1309.76 696.219,1307.07 698.395,1304.36 700.57,1301.63 702.746,1298.9 704.921,1296.15 707.096,1293.39 709.272,1290.63 711.447,1287.86 \n",
       "  713.623,1285.08 715.798,1282.3 717.974,1279.52 720.149,1276.73 722.324,1273.95 724.5,1271.16 726.675,1268.38 728.851,1265.61 731.026,1262.84 733.201,1260.07 \n",
       "  735.377,1257.32 737.552,1254.58 739.728,1251.84 741.903,1249.12 744.079,1246.42 746.254,1243.72 748.429,1241.05 750.605,1238.39 752.78,1235.76 754.956,1233.14 \n",
       "  757.131,1230.55 759.307,1227.98 761.482,1225.43 763.657,1222.91 765.833,1220.42 768.008,1217.95 770.184,1215.52 772.359,1213.11 774.535,1210.74 776.71,1208.4 \n",
       "  778.885,1206.09 781.061,1203.82 783.236,1201.59 785.412,1199.4 787.587,1197.24 789.762,1195.12 791.938,1193.04 794.113,1191.01 796.289,1189.02 798.464,1187.07 \n",
       "  800.64,1185.17 802.815,1183.31 804.99,1181.5 807.166,1179.73 809.341,1178.02 811.517,1176.35 813.692,1174.74 815.868,1173.17 818.043,1171.66 820.218,1170.19 \n",
       "  822.394,1168.78 824.569,1167.43 826.745,1166.13 828.92,1164.88 831.096,1163.69 833.271,1162.55 835.446,1161.47 837.622,1160.45 839.797,1159.49 841.973,1158.58 \n",
       "  844.148,1157.73 846.323,1156.94 848.499,1156.21 850.674,1155.54 852.85,1154.94 855.025,1154.39 857.201,1153.9 859.376,1153.47 861.551,1153.1 863.727,1152.8 \n",
       "  865.902,1152.55 868.078,1152.37 870.253,1152.25 872.429,1152.19 874.604,1152.19 876.779,1152.25 878.955,1152.37 881.13,1152.56 883.306,1152.8 885.481,1153.11 \n",
       "  887.656,1153.47 889.832,1153.9 892.007,1154.39 894.183,1154.93 896.358,1155.54 898.534,1156.2 900.709,1156.93 902.884,1157.71 905.06,1158.55 907.235,1159.45 \n",
       "  909.411,1160.4 911.586,1161.41 913.762,1162.48 915.937,1163.6 918.112,1164.78 920.288,1166.01 922.463,1167.29 924.639,1168.63 926.814,1170.02 928.99,1171.47 \n",
       "  931.165,1172.96 933.34,1174.5 935.516,1176.1 937.691,1177.74 939.867,1179.43 942.042,1181.16 944.217,1182.95 946.393,1184.77 948.568,1186.65 950.744,1188.56 \n",
       "  952.919,1190.52 955.095,1192.52 957.27,1194.55 959.445,1196.63 961.621,1198.75 963.796,1200.9 965.972,1203.09 968.147,1205.31 970.323,1207.57 972.498,1209.85 \n",
       "  974.673,1212.17 976.849,1214.52 979.024,1216.9 981.2,1219.3 983.375,1221.73 985.55,1224.19 987.726,1226.67 989.901,1229.17 992.077,1231.7 994.252,1234.24 \n",
       "  996.428,1236.8 998.603,1239.39 1000.78,1241.98 1002.95,1244.59 1005.13,1247.22 1007.3,1249.86 1009.48,1252.5 1011.66,1255.16 1013.83,1257.83 1016.01,1260.5 \n",
       "  1018.18,1263.18 1020.36,1265.86 1022.53,1268.55 1024.71,1271.24 1026.88,1273.93 1029.06,1276.62 1031.23,1279.3 1033.41,1281.99 1035.59,1284.66 1037.76,1287.33 \n",
       "  1039.94,1290 1042.11,1292.65 1044.29,1295.3 1046.46,1297.93 1048.64,1300.55 1050.81,1303.16 1052.99,1305.75 1055.16,1308.32 1057.34,1310.87 1059.51,1313.41 \n",
       "  1061.69,1315.92 1063.87,1318.41 1066.04,1320.88 1068.22,1323.32 1070.39,1325.74 1072.57,1328.13 1074.74,1330.49 1076.92,1332.82 1079.09,1335.12 1081.27,1337.4 \n",
       "  1083.44,1339.63 1085.62,1341.84 1087.8,1344.01 1089.97,1346.14 1092.15,1348.24 1094.32,1350.3 1096.5,1352.32 1098.67,1354.29 1100.85,1356.23 1103.02,1358.13 \n",
       "  1105.2,1359.98 1107.37,1361.79 1109.55,1363.56 1111.72,1365.27 1113.9,1366.95 1116.08,1368.57 1118.25,1370.15 1120.43,1371.68 1122.6,1373.16 1124.78,1374.59 \n",
       "  1126.95,1375.97 1129.13,1377.29 1131.3,1378.57 1133.48,1379.79 1135.65,1380.96 1137.83,1382.08 1140.01,1383.14 1142.18,1384.14 1144.36,1385.09 1146.53,1385.99 \n",
       "  1148.71,1386.83 1150.88,1387.61 1153.06,1388.33 1155.23,1389 1157.41,1389.61 1159.58,1390.16 1161.76,1390.66 1163.94,1391.09 1166.11,1391.47 1168.29,1391.79 \n",
       "  1170.46,1392.05 1172.64,1392.25 1174.81,1392.39 1176.99,1392.47 1179.16,1392.49 1181.34,1392.45 1183.51,1392.36 1185.69,1392.2 1187.86,1391.98 1190.04,1391.71 \n",
       "  1192.22,1391.38 1194.39,1390.99 1196.57,1390.54 1198.74,1390.03 1200.92,1389.46 1203.09,1388.84 1205.27,1388.16 1207.44,1387.42 1209.62,1386.63 1211.79,1385.78 \n",
       "  1213.97,1384.88 1216.15,1383.92 1218.32,1382.9 1220.5,1381.84 1222.67,1380.72 1224.85,1379.55 1227.02,1378.32 1229.2,1377.05 1231.37,1375.72 1233.55,1374.35 \n",
       "  1235.72,1372.92 1237.9,1371.45 1240.07,1369.93 1242.25,1368.36 1244.43,1366.75 1246.6,1365.09 1248.78,1363.38 1250.95,1361.64 1253.13,1359.84 1255.3,1358.01 \n",
       "  1257.48,1356.14 1259.65,1354.23 1261.83,1352.27 1264,1350.28 1266.18,1348.25 1268.36,1346.19 1270.53,1344.09 1272.71,1341.96 1274.88,1339.79 1277.06,1337.59 \n",
       "  1279.23,1335.36 1281.41,1333.1 1283.58,1330.82 1285.76,1328.5 1287.93,1326.16 1290.11,1323.8 1292.29,1321.41 1294.46,1319 1296.64,1316.56 1298.81,1314.11 \n",
       "  1300.99,1311.64 1303.16,1309.15 1305.34,1306.65 1307.51,1304.13 1309.69,1301.6 1311.86,1299.06 1314.04,1296.5 1316.21,1293.94 1318.39,1291.36 1320.57,1288.78 \n",
       "  1322.74,1286.2 1324.92,1283.61 1327.09,1281.01 1329.27,1278.42 1331.44,1275.82 1333.62,1273.23 1335.79,1270.63 1337.97,1268.04 1340.14,1265.46 1342.32,1262.88 \n",
       "  1344.5,1260.3 1346.67,1257.74 1348.85,1255.18 1351.02,1252.64 1353.2,1250.11 1355.37,1247.59 1357.55,1245.08 1359.72,1242.6 1361.9,1240.12 1364.07,1237.67 \n",
       "  1366.25,1235.24 1368.42,1232.83 1370.6,1230.43 1372.78,1228.07 1374.95,1225.72 1377.13,1223.41 1379.3,1221.11 1381.48,1218.85 1383.65,1216.62 1385.83,1214.41 \n",
       "  1388,1212.24 1390.18,1210.1 1392.35,1207.99 1394.53,1205.92 1396.71,1203.88 1398.88,1201.88 1401.06,1199.92 1403.23,1197.99 1405.41,1196.11 1407.58,1194.26 \n",
       "  1409.76,1192.46 1411.93,1190.69 1414.11,1188.97 1416.28,1187.3 1418.46,1185.66 1420.63,1184.08 1422.81,1182.54 1424.99,1181.05 1427.16,1179.6 1429.34,1178.2 \n",
       "  1431.51,1176.85 1433.69,1175.55 1435.86,1174.31 1438.04,1173.11 1440.21,1171.96 1442.39,1170.87 1444.56,1169.83 1446.74,1168.84 1448.92,1167.9 1451.09,1167.02 \n",
       "  1453.27,1166.19 1455.44,1165.42 1457.62,1164.7 1459.79,1164.04 1461.97,1163.43 1464.14,1162.88 1466.32,1162.38 1468.49,1161.94 1470.67,1161.56 1472.85,1161.23 \n",
       "  1475.02,1160.96 1477.2,1160.75 1479.37,1160.59 1481.55,1160.49 1483.72,1160.45 1485.9,1160.46 1488.07,1160.54 1490.25,1160.66 1492.42,1160.85 1494.6,1161.09 \n",
       "  1496.77,1161.39 1498.95,1161.75 1501.13,1162.16 1503.3,1162.63 1505.48,1163.15 1507.65,1163.73 1509.83,1164.37 1512,1165.06 1514.18,1165.81 1516.35,1166.61 \n",
       "  1518.53,1167.46 1520.7,1168.37 1522.88,1169.33 1525.06,1170.34 1527.23,1171.4 1529.41,1172.52 1531.58,1173.68 1533.76,1174.9 1535.93,1176.16 1538.11,1177.48 \n",
       "  1540.28,1178.84 1542.46,1180.24 1544.63,1181.7 1546.81,1183.2 1548.98,1184.74 1551.16,1186.33 1553.34,1187.96 1555.51,1189.64 1557.69,1191.35 1559.86,1193.11 \n",
       "  1562.04,1194.9 1564.21,1196.74 1566.39,1198.61 1568.56,1200.52 1570.74,1202.47 1572.91,1204.45 1575.09,1206.46 1577.27,1208.51 1579.44,1210.59 1581.62,1212.7 \n",
       "  1583.79,1214.84 1585.97,1217.01 1588.14,1219.2 1590.32,1221.43 1592.49,1223.67 1594.67,1225.95 1596.84,1228.24 1599.02,1230.56 1601.2,1232.9 1603.37,1235.26 \n",
       "  1605.55,1237.64 1607.72,1240.04 1609.9,1242.45 1612.07,1244.88 1614.25,1247.32 1616.42,1249.77 1618.6,1252.23 1620.77,1254.71 1622.95,1257.19 1625.12,1259.68 \n",
       "  1627.3,1262.18 1629.48,1264.68 1631.65,1267.19 1633.83,1269.7 1636,1272.2 1638.18,1274.71 1640.35,1277.22 1642.53,1279.72 1644.7,1282.22 1646.88,1284.72 \n",
       "  1649.05,1287.2 1651.23,1289.68 1653.41,1292.16 1655.58,1294.62 1657.76,1297.07 1659.93,1299.5 1662.11,1301.93 1664.28,1304.34 1666.46,1306.73 1668.63,1309.1 \n",
       "  1670.81,1311.46 1672.98,1313.8 1675.16,1316.11 1677.33,1318.4 1679.51,1320.67 1681.69,1322.92 1683.86,1325.14 1686.04,1327.33 1688.21,1329.5 1690.39,1331.64 \n",
       "  1692.56,1333.75 1694.74,1335.82 1696.91,1337.87 1699.09,1339.88 1701.26,1341.86 1703.44,1343.81 1705.62,1345.71 1707.79,1347.59 1709.97,1349.42 1712.14,1351.22 \n",
       "  1714.32,1352.98 1716.49,1354.69 1718.67,1356.37 1720.84,1358 1723.02,1359.59 1725.19,1361.14 1727.37,1362.64 1729.54,1364.1 1731.72,1365.52 1733.9,1366.88 \n",
       "  1736.07,1368.2 1738.25,1369.47 1740.42,1370.7 1742.6,1371.87 1744.77,1373 1746.95,1374.08 1749.12,1375.1 1751.3,1376.08 1753.47,1377 1755.65,1377.87 \n",
       "  1757.83,1378.69 1760,1379.46 1762.18,1380.17 1764.35,1380.83 1766.53,1381.44 1768.7,1381.99 1770.88,1382.48 1773.05,1382.93 1775.23,1383.32 1777.4,1383.65 \n",
       "  1779.58,1383.93 1781.76,1384.15 1783.93,1384.32 1786.11,1384.43 1788.28,1384.49 1790.46,1384.49 1792.63,1384.44 1794.81,1384.33 1796.98,1384.17 1799.16,1383.95 \n",
       "  1801.33,1383.68 1803.51,1383.36 1805.68,1382.97 1807.86,1382.54 1810.04,1382.05 1812.21,1381.51 1814.39,1380.91 1816.56,1380.27 1818.74,1379.57 1820.91,1378.81 \n",
       "  1823.09,1378.01 1825.26,1377.15 1827.44,1376.25 1829.61,1375.29 1831.79,1374.28 1833.97,1373.23 1836.14,1372.12 1838.32,1370.97 1840.49,1369.77 1842.67,1368.52 \n",
       "  1844.84,1367.23 1847.02,1365.88 1849.19,1364.5 1851.37,1363.07 1853.54,1361.59 1855.72,1360.07 1857.89,1358.51 1860.07,1356.91 1862.25,1355.27 1864.42,1353.59 \n",
       "  1866.6,1351.86 1868.77,1350.1 1870.95,1348.31 1873.12,1346.47 1875.3,1344.6 1877.47,1342.7 1879.65,1340.76 1881.82,1338.79 1884,1336.79 1886.18,1334.76 \n",
       "  1888.35,1332.7 1890.53,1330.62 1892.7,1328.5 1894.88,1326.36 1897.05,1324.2 1899.23,1322.01 1901.4,1319.8 1903.58,1317.56 1905.75,1315.31 1907.93,1313.04 \n",
       "  1910.11,1310.75 1912.28,1308.44 1914.46,1306.12 1916.63,1303.78 1918.81,1301.43 1920.98,1299.07 1923.16,1296.69 1925.33,1294.31 1927.51,1291.92 1929.68,1289.52 \n",
       "  1931.86,1287.11 1934.03,1284.7 1936.21,1282.28 1938.39,1279.86 1940.56,1277.44 1942.74,1275.02 1944.91,1272.6 1947.09,1270.18 1949.26,1267.77 1951.44,1265.36 \n",
       "  1953.61,1262.96 1955.79,1260.56 1957.96,1258.17 1960.14,1255.79 1962.32,1253.42 1964.49,1251.06 1966.67,1248.71 1968.84,1246.38 1971.02,1244.06 1973.19,1241.76 \n",
       "  1975.37,1239.48 1977.54,1237.22 1979.72,1234.97 1981.89,1232.75 1984.07,1230.55 1986.24,1228.37 1988.42,1226.22 1990.6,1224.09 1992.77,1221.99 1994.95,1219.91 \n",
       "  1997.12,1217.87 1999.3,1215.85 2001.47,1213.86 2003.65,1211.91 2005.82,1209.98 2008,1208.09 2010.17,1206.24 2012.35,1204.42 2014.53,1202.63 2016.7,1200.89 \n",
       "  2018.88,1199.18 2021.05,1197.51 2023.23,1195.87 2025.4,1194.28 2027.58,1192.73 2029.75,1191.22 2031.93,1189.76 2034.1,1188.34 2036.28,1186.96 2038.45,1185.62 \n",
       "  2040.63,1184.33 2042.81,1183.09 2044.98,1181.89 2047.16,1180.74 2049.33,1179.64 2051.51,1178.58 2053.68,1177.58 2055.86,1176.62 2058.03,1175.71 2060.21,1174.85 \n",
       "  2062.38,1174.04 2064.56,1173.29 2066.74,1172.58 2068.91,1171.92 2071.09,1171.32 2073.26,1170.77 2075.44,1170.27 2077.61,1169.82 2079.79,1169.42 2081.96,1169.08 \n",
       "  2084.14,1168.79 2086.31,1168.55 2088.49,1168.37 2090.67,1168.24 2092.84,1168.16 2095.02,1168.14 2097.19,1168.17 2099.37,1168.25 2101.54,1168.39 2103.72,1168.58 \n",
       "  2105.89,1168.82 2108.07,1169.12 2110.24,1169.47 2112.42,1169.87 2114.59,1170.32 2116.77,1170.83 2118.95,1171.38 2121.12,1171.99 2123.3,1172.65 2125.47,1173.37 \n",
       "  2127.65,1174.13 2129.82,1174.94 2132,1175.8 2134.17,1176.71 2136.35,1177.67 2138.52,1178.67 2140.7,1179.73 2142.88,1180.83 2145.05,1181.97 2147.23,1183.17 \n",
       "  2149.4,1184.4 2151.58,1185.68 2153.75,1187.01 2155.93,1188.38 2158.1,1189.79 2160.28,1191.24 2162.45,1192.73 2164.63,1194.26 2166.8,1195.83 2168.98,1197.44 \n",
       "  2171.16,1199.09 2173.33,1200.78 2175.51,1202.5 2177.68,1204.25 2179.86,1206.04 2182.03,1207.87 2184.21,1209.72 2186.38,1211.61 2188.56,1213.53 2190.73,1215.47 \n",
       "  2192.91,1217.45 2195.09,1219.45 2197.26,1221.49 2199.44,1223.54 2201.61,1225.62 2203.79,1227.73 2205.96,1229.86 2208.14,1232 2210.31,1234.17 2212.49,1236.36 \n",
       "  2214.66,1238.57 2216.84,1240.79 2219.01,1243.03 2221.19,1245.29 2223.37,1247.56 2225.54,1249.84 2227.72,1252.13 2229.89,1254.43 2232.07,1256.74 2234.24,1259.05 \n",
       "  2236.42,1261.38 2238.59,1263.7 2240.77,1266.04 2242.94,1268.37 2245.12,1270.71 2247.3,1273.05 2249.47,1275.39 2251.65,1277.72 2253.82,1280.06 2256,1282.38 \n",
       "  2258.17,1284.71 2260.35,1287.03 2262.52,1289.34 2264.7,1291.64 2266.87,1293.93 2269.05,1296.21 2271.23,1298.48 2273.4,1300.73 2275.58,1302.97 2277.75,1305.2 \n",
       "  2279.93,1307.41 2282.1,1309.6 2284.28,1311.77 2286.45,1313.92 2288.63,1316.06 2290.8,1318.17 2292.98,1320.25 2295.15,1322.32 2297.33,1324.36 2299.51,1326.37 \n",
       "  2301.68,1328.36 2303.86,1330.31 2306.03,1332.24 2308.21,1334.14 2310.38,1336.01 2312.56,1337.85 2314.73,1339.65 2316.91,1341.42 2319.08,1343.16 2321.26,1344.86 \n",
       "  \n",
       "  \"/>\n",
       "<polyline clip-path=\"url(#clip2503)\" style=\"stroke:#e26f46; stroke-width:12; stroke-opacity:1; fill:none\" points=\"\n",
       "  148.013,1217.53 150.188,1212.48 152.364,1207.16 154.539,1201.57 156.715,1195.71 158.89,1189.59 161.065,1183.2 163.241,1176.56 165.416,1169.66 167.592,1162.52 \n",
       "  169.767,1155.12 171.943,1147.49 174.118,1139.61 176.293,1131.5 178.469,1123.16 180.644,1114.6 182.82,1105.81 184.995,1096.8 187.17,1087.58 189.346,1078.16 \n",
       "  191.521,1068.53 193.697,1058.7 195.872,1048.67 198.048,1038.46 200.223,1028.07 202.398,1017.5 204.574,1006.76 206.749,995.846 208.925,984.775 211.1,973.547 \n",
       "  213.276,962.17 215.451,950.648 217.626,938.988 219.802,927.195 221.977,915.276 224.153,903.236 226.328,891.082 228.503,878.82 230.679,866.456 232.854,853.996 \n",
       "  235.03,841.447 237.205,828.814 239.381,816.105 241.556,803.325 243.731,790.481 245.907,777.58 248.082,764.627 250.258,751.63 252.433,738.595 254.609,725.529 \n",
       "  256.784,712.437 258.959,699.328 261.135,686.206 263.31,673.08 265.486,659.954 267.661,646.837 269.837,633.735 272.012,620.654 274.187,607.601 276.363,594.582 \n",
       "  278.538,581.603 280.714,568.672 282.889,555.794 285.064,542.977 287.24,530.225 289.415,517.547 291.591,504.947 293.766,492.433 295.942,480.01 298.117,467.686 \n",
       "  300.292,455.464 302.468,443.353 304.643,431.358 306.819,419.484 308.994,407.738 311.17,396.126 313.345,384.653 315.52,373.326 317.696,362.15 319.871,351.13 \n",
       "  322.047,340.271 324.222,329.58 326.398,319.061 328.573,308.72 330.748,298.561 332.924,288.59 335.099,278.811 337.275,269.229 339.45,259.85 341.625,250.676 \n",
       "  343.801,241.713 345.976,232.966 348.152,224.439 350.327,216.135 352.503,208.059 354.678,200.214 356.853,192.605 359.029,185.234 361.204,178.107 363.38,171.225 \n",
       "  365.555,164.594 367.731,158.215 369.906,152.092 372.081,146.229 374.257,140.628 376.432,135.291 378.608,130.221 380.783,125.421 382.958,120.892 385.134,116.638 \n",
       "  387.309,112.659 389.485,108.958 391.66,105.537 393.836,102.396 396.011,99.5379 398.186,96.9631 400.362,94.6731 402.537,92.6686 404.713,90.9506 406.888,89.5197 \n",
       "  409.064,88.3764 411.239,87.5211 413.414,86.954 415.59,86.6754 417.765,86.6851 419.941,86.9832 422.116,87.5694 424.292,88.4434 426.467,89.6045 428.642,91.0522 \n",
       "  430.818,92.7856 432.993,94.8037 435.169,97.1055 437.344,99.6897 439.519,102.555 441.695,105.699 443.87,109.122 446.046,112.82 448.221,116.792 450.397,121.036 \n",
       "  452.572,125.549 454.747,130.33 456.923,135.375 459.098,140.682 461.274,146.247 463.449,152.069 465.625,158.143 467.8,164.467 469.975,171.037 472.151,177.849 \n",
       "  474.326,184.901 476.502,192.188 478.677,199.707 480.852,207.454 483.028,215.426 485.203,223.617 487.379,232.024 489.554,240.642 491.73,249.468 493.905,258.496 \n",
       "  496.08,267.722 498.256,277.141 500.431,286.749 502.607,296.541 504.782,306.511 506.958,316.656 509.133,326.968 511.308,337.445 513.484,348.079 515.659,358.866 \n",
       "  517.835,369.8 520.01,380.876 522.186,392.088 524.361,403.429 526.536,414.895 528.712,426.48 530.887,438.176 533.063,449.978 535.238,461.881 537.413,473.879 \n",
       "  539.589,485.965 541.764,498.134 543.94,510.38 546.115,522.695 548.291,535.075 550.466,547.512 552.641,560 554.817,572.533 556.992,585.104 559.168,597.708 \n",
       "  561.343,610.339 563.519,622.989 565.694,635.652 567.869,648.323 570.045,660.995 572.22,673.662 574.396,686.317 576.571,698.954 578.747,711.568 580.922,724.151 \n",
       "  583.097,736.697 585.273,749.201 587.448,761.655 589.624,774.055 591.799,786.392 593.974,798.662 596.15,810.858 598.325,822.973 600.501,835.002 602.676,846.937 \n",
       "  604.852,858.774 607.027,870.507 609.202,882.131 611.378,893.639 613.553,905.027 615.729,916.288 617.904,927.417 620.08,938.407 622.255,949.254 624.43,959.951 \n",
       "  626.606,970.494 628.781,980.877 630.957,991.095 633.132,1001.14 635.307,1011.02 637.483,1020.71 639.658,1030.22 641.834,1039.54 644.009,1048.67 646.185,1057.59 \n",
       "  648.36,1066.32 650.535,1074.84 652.711,1083.15 654.886,1091.24 657.062,1099.12 659.237,1106.77 661.413,1114.2 663.588,1121.4 665.763,1128.37 667.939,1135.09 \n",
       "  670.114,1141.58 672.29,1147.83 674.465,1153.83 676.641,1159.58 678.816,1165.08 680.991,1170.33 683.167,1175.32 685.342,1180.05 687.518,1184.52 689.693,1188.72 \n",
       "  691.868,1192.66 694.044,1196.34 696.219,1199.74 698.395,1202.88 700.57,1205.74 702.746,1208.33 704.921,1210.64 707.096,1212.68 709.272,1214.44 711.447,1215.93 \n",
       "  713.623,1217.13 715.798,1218.06 717.974,1218.71 720.149,1219.07 722.324,1219.16 724.5,1218.97 726.675,1218.5 728.851,1217.76 731.026,1216.73 733.201,1215.43 \n",
       "  735.377,1213.85 737.552,1212 739.728,1209.87 741.903,1207.47 744.079,1204.8 746.254,1201.86 748.429,1198.65 750.605,1195.17 752.78,1191.43 754.956,1187.43 \n",
       "  757.131,1183.17 759.307,1178.65 761.482,1173.87 763.657,1168.84 765.833,1163.56 768.008,1158.03 770.184,1152.26 772.359,1146.24 774.535,1139.99 776.71,1133.49 \n",
       "  778.885,1126.77 781.061,1119.82 783.236,1112.64 785.412,1105.24 787.587,1097.62 789.762,1089.78 791.938,1081.74 794.113,1073.49 796.289,1065.04 798.464,1056.39 \n",
       "  800.64,1047.55 802.815,1038.51 804.99,1029.3 807.166,1019.9 809.341,1010.34 811.517,1000.6 813.692,990.699 815.868,980.64 818.043,970.427 820.218,960.065 \n",
       "  822.394,949.56 824.569,938.916 826.745,928.139 828.92,917.236 831.096,906.21 833.271,895.069 835.446,883.817 837.622,872.461 839.797,861.006 841.973,849.457 \n",
       "  844.148,837.821 846.323,826.103 848.499,814.31 850.674,802.446 852.85,790.518 855.025,778.532 857.201,766.493 859.376,754.408 861.551,742.283 863.727,730.123 \n",
       "  865.902,717.935 868.078,705.725 870.253,693.498 872.429,681.262 874.604,669.022 876.779,656.784 878.955,644.554 881.13,632.34 883.306,620.146 885.481,607.981 \n",
       "  887.656,595.848 889.832,583.756 892.007,571.711 894.183,559.719 896.358,547.786 898.534,535.916 900.709,524.115 902.884,512.389 905.06,500.744 907.235,489.185 \n",
       "  909.411,477.719 911.586,466.352 913.762,455.089 915.937,443.936 918.112,432.899 920.288,421.983 922.463,411.193 924.639,400.536 926.814,390.015 928.99,379.637 \n",
       "  931.165,369.406 933.34,359.327 935.516,349.406 937.691,339.646 939.867,330.054 942.042,320.633 944.217,311.388 946.393,302.323 948.568,293.444 950.744,284.753 \n",
       "  952.919,276.257 955.095,267.957 957.27,259.86 959.445,251.968 961.621,244.285 963.796,236.816 965.972,229.564 968.147,222.532 970.323,215.725 972.498,209.145 \n",
       "  974.673,202.796 976.849,196.679 979.024,190.797 981.2,185.153 983.375,179.749 985.55,174.59 987.726,169.677 989.901,165.012 992.077,160.6 994.252,156.441 \n",
       "  996.428,152.538 998.603,148.892 1000.78,145.507 1002.95,142.382 1005.13,139.521 1007.3,136.923 1009.48,134.592 1011.66,132.526 1013.83,130.729 1016.01,129.199 \n",
       "  1018.18,127.939 1020.36,126.948 1022.53,126.227 1024.71,125.776 1026.88,125.595 1029.06,125.684 1031.23,126.043 1033.41,126.671 1035.59,127.568 1037.76,128.733 \n",
       "  1039.94,130.166 1042.11,131.865 1044.29,133.829 1046.46,136.057 1048.64,138.548 1050.81,141.3 1052.99,144.312 1055.16,147.58 1057.34,151.105 1059.51,154.882 \n",
       "  1061.69,158.911 1063.87,163.189 1066.04,167.714 1068.22,172.484 1070.39,177.497 1072.57,182.751 1074.74,188.241 1076.92,193.967 1079.09,199.924 1081.27,206.109 \n",
       "  1083.44,212.52 1085.62,219.154 1087.8,226.006 1089.97,233.074 1092.15,240.354 1094.32,247.842 1096.5,255.534 1098.67,263.427 1100.85,271.516 1103.02,279.799 \n",
       "  1105.2,288.269 1107.37,296.923 1109.55,305.758 1111.72,314.767 1113.9,323.947 1116.08,333.292 1118.25,342.799 1120.43,352.461 1122.6,362.275 1124.78,372.235 \n",
       "  1126.95,382.335 1129.13,392.57 1131.3,402.936 1133.48,413.425 1135.65,424.034 1137.83,434.755 1140.01,445.583 1142.18,456.516 1144.36,467.547 1146.53,478.67 \n",
       "  1148.71,489.879 1150.88,501.17 1153.06,512.535 1155.23,523.969 1157.41,535.467 1159.58,547.023 1161.76,558.63 1163.94,570.283 1166.11,581.976 1168.29,593.704 \n",
       "  1170.46,605.46 1172.64,617.24 1174.81,629.036 1176.99,640.843 1179.16,652.655 1181.34,664.467 1183.51,676.273 1185.69,688.067 1187.86,699.843 1190.04,711.595 \n",
       "  1192.22,723.318 1194.39,735.005 1196.57,746.651 1198.74,758.25 1200.92,769.796 1203.09,781.284 1205.27,792.707 1207.44,804.06 1209.62,815.336 1211.79,826.531 \n",
       "  1213.97,837.638 1216.15,848.652 1218.32,859.566 1220.5,870.374 1222.67,881.072 1224.85,891.653 1227.02,902.116 1229.2,912.455 1231.37,922.665 1233.55,932.74 \n",
       "  1235.72,942.675 1237.9,952.465 1240.07,962.105 1242.25,971.591 1244.43,980.916 1246.6,990.077 1248.78,999.07 1250.95,1007.89 1253.13,1016.53 1255.3,1024.99 \n",
       "  1257.48,1033.26 1259.65,1041.34 1261.83,1049.23 1264,1056.92 1266.18,1064.41 1268.36,1071.7 1270.53,1078.77 1272.71,1085.63 1274.88,1092.28 1277.06,1098.71 \n",
       "  1279.23,1104.92 1281.41,1110.9 1283.58,1116.66 1285.76,1122.18 1287.93,1127.47 1290.11,1132.53 1292.29,1137.35 1294.46,1141.93 1296.64,1146.27 1298.81,1150.37 \n",
       "  1300.99,1154.21 1303.16,1157.81 1305.34,1161.16 1307.51,1164.26 1309.69,1167.11 1311.86,1169.7 1314.04,1172.04 1316.21,1174.13 1318.39,1175.96 1320.57,1177.53 \n",
       "  1322.74,1178.84 1324.92,1179.89 1327.09,1180.69 1329.27,1181.22 1331.44,1181.5 1333.62,1181.51 1335.79,1181.26 1337.97,1180.76 1340.14,1179.99 1342.32,1178.97 \n",
       "  1344.5,1177.68 1346.67,1176.14 1348.85,1174.34 1351.02,1172.29 1353.2,1169.98 1355.37,1167.42 1357.55,1164.6 1359.72,1161.54 1361.9,1158.22 1364.07,1154.66 \n",
       "  1366.25,1150.85 1368.42,1146.8 1370.6,1142.51 1372.78,1137.98 1374.95,1133.22 1377.13,1128.22 1379.3,1122.99 1381.48,1117.54 1383.65,1111.86 1385.83,1105.96 \n",
       "  1388,1099.84 1390.18,1093.51 1392.35,1086.96 1394.53,1080.21 1396.71,1073.25 1398.88,1066.09 1401.06,1058.73 1403.23,1051.18 1405.41,1043.43 1407.58,1035.5 \n",
       "  1409.76,1027.39 1411.93,1019.1 1414.11,1010.63 1416.28,1002 1418.46,993.199 1420.63,984.237 1422.81,975.118 1424.99,965.847 1427.16,956.429 1429.34,946.867 \n",
       "  1431.51,937.168 1433.69,927.335 1435.86,917.374 1438.04,907.29 1440.21,897.088 1442.39,886.772 1444.56,876.349 1446.74,865.824 1448.92,855.202 1451.09,844.489 \n",
       "  1453.27,833.69 1455.44,822.81 1457.62,811.857 1459.79,800.834 1461.97,789.75 1464.14,778.608 1466.32,767.415 1468.49,756.176 1470.67,744.894 1472.85,733.577 \n",
       "  1475.02,722.23 1477.2,710.858 1479.37,699.469 1481.55,688.067 1483.72,676.659 1485.9,665.25 1488.07,653.846 1490.25,642.452 1492.42,631.075 1494.6,619.72 \n",
       "  1496.77,608.393 1498.95,597.098 1501.13,585.843 1503.3,574.631 1505.48,563.47 1507.65,552.364 1509.83,541.318 1512,530.338 1514.18,519.43 1516.35,508.599 \n",
       "  1518.53,497.85 1520.7,487.188 1522.88,476.619 1525.06,466.147 1527.23,455.779 1529.41,445.519 1531.58,435.372 1533.76,425.344 1535.93,415.44 1538.11,405.664 \n",
       "  1540.28,396.021 1542.46,386.518 1544.63,377.158 1546.81,367.946 1548.98,358.888 1551.16,349.988 1553.34,341.25 1555.51,332.675 1557.69,324.269 1559.86,316.035 \n",
       "  1562.04,307.979 1564.21,300.104 1566.39,292.414 1568.56,284.913 1570.74,277.606 1572.91,270.495 1575.09,263.585 1577.27,256.878 1579.44,250.379 1581.62,244.09 \n",
       "  1583.79,238.014 1585.97,232.155 1588.14,226.516 1590.32,221.098 1592.49,215.905 1594.67,210.939 1596.84,206.202 1599.02,201.697 1601.2,197.426 1603.37,193.39 \n",
       "  1605.55,189.592 1607.72,186.033 1609.9,182.716 1612.07,179.64 1614.25,176.808 1616.42,174.222 1618.6,171.881 1620.77,169.787 1622.95,167.941 1625.12,166.344 \n",
       "  1627.3,164.996 1629.48,163.898 1631.65,163.05 1633.83,162.452 1636,162.104 1638.18,162.007 1640.35,162.16 1642.53,162.563 1644.7,163.214 1646.88,164.114 \n",
       "  1649.05,165.263 1651.23,166.659 1653.41,168.302 1655.58,170.192 1657.76,172.327 1659.93,174.706 1662.11,177.329 1664.28,180.193 1666.46,183.298 1668.63,186.642 \n",
       "  1670.81,190.223 1672.98,194.039 1675.16,198.089 1677.33,202.371 1679.51,206.882 1681.69,211.619 1683.86,216.582 1686.04,221.767 1688.21,227.171 1690.39,232.792 \n",
       "  1692.56,238.626 1694.74,244.672 1696.91,250.925 1699.09,257.382 1701.26,264.04 1703.44,270.895 1705.62,277.944 1707.79,285.183 1709.97,292.608 1712.14,300.215 \n",
       "  1714.32,308 1716.49,315.958 1718.67,324.086 1720.84,332.378 1723.02,340.83 1725.19,349.437 1727.37,358.194 1729.54,367.098 1731.72,376.145 1733.9,385.331 \n",
       "  1736.07,394.652 1738.25,404.102 1740.42,413.676 1742.6,423.37 1744.77,433.179 1746.95,443.098 1749.12,453.121 1751.3,463.244 1753.47,473.461 1755.65,483.768 \n",
       "  1757.83,494.16 1760,504.63 1762.18,515.175 1764.35,525.789 1766.53,536.466 1768.7,547.202 1770.88,557.99 1773.05,568.826 1775.23,579.705 1777.4,590.62 \n",
       "  1779.58,601.567 1781.76,612.54 1783.93,623.534 1786.11,634.542 1788.28,645.56 1790.46,656.581 1792.63,667.601 1794.81,678.613 1796.98,689.612 1799.16,700.593 \n",
       "  1801.33,711.548 1803.51,722.473 1805.68,733.362 1807.86,744.209 1810.04,755.008 1812.21,765.755 1814.39,776.446 1816.56,787.076 1818.74,797.639 1820.91,808.129 \n",
       "  1823.09,818.542 1825.26,828.872 1827.44,839.113 1829.61,849.261 1831.79,859.31 1833.97,869.255 1836.14,879.091 1838.32,888.813 1840.49,898.417 1842.67,907.897 \n",
       "  1844.84,917.25 1847.02,926.469 1849.19,935.552 1851.37,944.494 1853.54,953.289 1855.72,961.935 1857.89,970.426 1860.07,978.759 1862.25,986.929 1864.42,994.934 \n",
       "  1866.6,1002.77 1868.77,1010.43 1870.95,1017.91 1873.12,1025.21 1875.3,1032.33 1877.47,1039.26 1879.65,1045.99 1881.82,1052.53 1884,1058.88 1886.18,1065.02 \n",
       "  1888.35,1070.96 1890.53,1076.69 1892.7,1082.21 1894.88,1087.51 1897.05,1092.6 1899.23,1097.48 1901.4,1102.13 1903.58,1106.56 1905.75,1110.77 1907.93,1114.75 \n",
       "  1910.11,1118.51 1912.28,1122.03 1914.46,1125.33 1916.63,1128.39 1918.81,1131.22 1920.98,1133.81 1923.16,1136.16 1925.33,1138.28 1927.51,1140.15 1929.68,1141.79 \n",
       "  1931.86,1143.18 1934.03,1144.33 1936.21,1145.24 1938.39,1145.91 1940.56,1146.33 1942.74,1146.51 1944.91,1146.45 1947.09,1146.14 1949.26,1145.59 1951.44,1144.8 \n",
       "  1953.61,1143.77 1955.79,1142.5 1957.96,1140.98 1960.14,1139.23 1962.32,1137.24 1964.49,1135.01 1966.67,1132.55 1968.84,1129.85 1971.02,1126.92 1973.19,1123.76 \n",
       "  1975.37,1120.37 1977.54,1116.75 1979.72,1112.91 1981.89,1108.84 1984.07,1104.56 1986.24,1100.06 1988.42,1095.34 1990.6,1090.41 1992.77,1085.26 1994.95,1079.91 \n",
       "  1997.12,1074.35 1999.3,1068.59 2001.47,1062.63 2003.65,1056.47 2005.82,1050.12 2008,1043.58 2010.17,1036.85 2012.35,1029.93 2014.53,1022.84 2016.7,1015.57 \n",
       "  2018.88,1008.12 2021.05,1000.51 2023.23,992.726 2025.4,984.784 2027.58,976.684 2029.75,968.43 2031.93,960.027 2034.1,951.478 2036.28,942.788 2038.45,933.962 \n",
       "  2040.63,925.004 2042.81,915.919 2044.98,906.711 2047.16,897.385 2049.33,887.946 2051.51,878.399 2053.68,868.749 2055.86,859.002 2058.03,849.161 2060.21,839.234 \n",
       "  2062.38,829.225 2064.56,819.137 2066.74,808.976 2068.91,798.746 2071.09,788.453 2073.26,778.103 2075.44,767.7 2077.61,757.251 2079.79,746.76 2081.96,736.232 \n",
       "  2084.14,725.673 2086.31,715.089 2088.49,704.484 2090.67,693.864 2092.84,683.234 2095.02,672.6 2097.19,661.966 2099.37,651.337 2101.54,640.72 2103.72,630.118 \n",
       "  2105.89,619.538 2108.07,608.985 2110.24,598.464 2112.42,587.979 2114.59,577.536 2116.77,567.141 2118.95,556.798 2121.12,546.512 2123.3,536.289 2125.47,526.134 \n",
       "  2127.65,516.051 2129.82,506.047 2132,496.125 2134.17,486.291 2136.35,476.551 2138.52,466.909 2140.7,457.369 2142.88,447.939 2145.05,438.621 2147.23,429.422 \n",
       "  2149.4,420.346 2151.58,411.397 2153.75,402.577 2155.93,393.891 2158.1,385.343 2160.28,376.938 2162.45,368.679 2164.63,360.572 2166.8,352.62 2168.98,344.828 \n",
       "  2171.16,337.199 2173.33,329.737 2175.51,322.446 2177.68,315.33 2179.86,308.392 2182.03,301.636 2184.21,295.064 2186.38,288.681 2188.56,282.488 2190.73,276.49 \n",
       "  2192.91,270.688 2195.09,265.087 2197.26,259.687 2199.44,254.493 2201.61,249.506 2203.79,244.729 2205.96,240.164 2208.14,235.813 2210.31,231.678 2212.49,227.761 \n",
       "  2214.66,224.064 2216.84,220.589 2219.01,217.337 2221.19,214.309 2223.37,211.507 2225.54,208.933 2227.72,206.587 2229.89,204.47 2232.07,202.584 2234.24,200.929 \n",
       "  2236.42,199.505 2238.59,198.315 2240.77,197.356 2242.94,196.629 2245.12,196.136 2247.3,195.876 2249.47,195.849 2251.65,196.056 2253.82,196.496 2256,197.169 \n",
       "  2258.17,198.075 2260.35,199.214 2262.52,200.584 2264.7,202.185 2266.87,204.017 2269.05,206.078 2271.23,208.367 2273.4,210.883 2275.58,213.625 2277.75,216.592 \n",
       "  2279.93,219.781 2282.1,223.192 2284.28,226.822 2286.45,230.669 2288.63,234.731 2290.8,239.007 2292.98,243.494 2295.15,248.189 2297.33,253.091 2299.51,258.195 \n",
       "  2301.68,263.501 2303.86,269.004 2306.03,274.701 2308.21,280.59 2310.38,286.668 2312.56,292.93 2314.73,299.374 2316.91,305.995 2319.08,312.791 2321.26,319.756 \n",
       "  \n",
       "  \"/>\n",
       "<polygon clip-path=\"url(#clip2501)\" points=\"\n",
       "1910.3,1296.48 2249.26,1296.48 2249.26,1115.04 1910.3,1115.04 \n",
       "  \" fill=\"#ffffff\" fill-rule=\"evenodd\" fill-opacity=\"1\"/>\n",
       "<polyline clip-path=\"url(#clip2501)\" style=\"stroke:#000000; stroke-width:4; stroke-opacity:1; fill:none\" points=\"\n",
       "  1910.3,1296.48 2249.26,1296.48 2249.26,1115.04 1910.3,1115.04 1910.3,1296.48 \n",
       "  \"/>\n",
       "<polyline clip-path=\"url(#clip2501)\" style=\"stroke:#009af9; stroke-width:12; stroke-opacity:1; fill:none\" points=\"\n",
       "  1934.3,1175.52 2078.3,1175.52 \n",
       "  \"/>\n",
       "<g clip-path=\"url(#clip2501)\">\n",
       "<text style=\"fill:#000000; fill-opacity:1; font-family:Arial,Helvetica Neue,Helvetica,sans-serif; font-size:48px; text-anchor:start;\" transform=\"rotate(0, 2102.3, 1193.02)\" x=\"2102.3\" y=\"1193.02\">u1(t)</text>\n",
       "</g>\n",
       "<polyline clip-path=\"url(#clip2501)\" style=\"stroke:#e26f46; stroke-width:12; stroke-opacity:1; fill:none\" points=\"\n",
       "  1934.3,1236 2078.3,1236 \n",
       "  \"/>\n",
       "<g clip-path=\"url(#clip2501)\">\n",
       "<text style=\"fill:#000000; fill-opacity:1; font-family:Arial,Helvetica Neue,Helvetica,sans-serif; font-size:48px; text-anchor:start;\" transform=\"rotate(0, 2102.3, 1253.5)\" x=\"2102.3\" y=\"1253.5\">u2(t)</text>\n",
       "</g>\n",
       "</svg>\n"
      ]
     },
     "execution_count": 50,
     "metadata": {},
     "output_type": "execute_result"
    }
   ],
   "source": [
    "prob = ODEProblem(f, u0, tspan, callback = cb)\n",
    "sol = solve(prob)\n",
    "plot(sol, legend=:bottomright, format=:svg)"
   ]
  },
  {
   "cell_type": "markdown",
   "metadata": {},
   "source": [
    "We can see as expected because of the damping the displacement, $u_2(t)$, is decreasing with time."
   ]
  },
  {
   "cell_type": "markdown",
   "metadata": {},
   "source": [
    "# Vibrating Beam"
   ]
  },
  {
   "cell_type": "markdown",
   "metadata": {},
   "source": [
    "For the next part we need to solve more complicated problems. In particular for my application I need to model a simply supported beam with a uniform load which represents an explosion. To use the SDOF formulation we need to collate the structural and material properties into one dimension. The Problem we are modeling can be shown graphically below."
   ]
  },
  {
   "attachments": {
    "image.png": {
     "image/png": "[encoded data removed]"
    }
   },
   "cell_type": "markdown",
   "metadata": {},
   "source": [
    "![image.png](attachment:image.png)"
   ]
  },
  {
   "cell_type": "markdown",
   "metadata": {},
   "source": [
    "For the case of investigating a blast load the duration is too short and damping can be neglected, hence we are going to omit the $c$ term and balance the equation only with mass and stiffness. The second order ODE is then shown in Equation 5. The variables expressed with a bar on top mean that their effect has been summed over the length of the beam."
   ]
  },
  {
   "cell_type": "markdown",
   "metadata": {},
   "source": [
    "$$\n",
    "\\begin{equation}\n",
    "\\bar{m} \\frac{\\partial^2 y}{\\partial t^2} + \\bar{k} y = \\bar{f}(t)\n",
    "\\end{equation}\n",
    "$$"
   ]
  },
  {
   "cell_type": "markdown",
   "metadata": {},
   "source": [
    "To carry out the summation we need to first assume a shape function. This means that we are imposing a predefined mode of vibration and calculating everything based off that. For a simple case as ours it is obvious that the beam would deflect downwards following a cosine function. If we express the stiffness using the structural and materials properties (Young's modulus and second moment of area) as $EI$ an dthe shape function as $\\phi(x)$ we obtain the summation in Equation 6 to 9."
   ]
  },
  {
   "cell_type": "markdown",
   "metadata": {},
   "source": [
    "We can assume that the Young's modulus is $200 GPa$, the second moment of area $0.402 \\times 10^{-3} m^4$, the mass per unit length $129 kg/m$ and the length $4 m$."
   ]
  },
  {
   "cell_type": "code",
   "execution_count": 69,
   "metadata": {},
   "outputs": [],
   "source": [
    "E = 200*10^9.\n",
    "I = 0.40 *10^(-3)\n",
    "m = 129.\n",
    "L = 4.;"
   ]
  },
  {
   "cell_type": "markdown",
   "metadata": {},
   "source": [
    "First we need to define the shape function and the derivatives. The function for our case is shown in Equation 6 and is simple for a hand calculation but here I am using the automatic differentiation method since I want to be able to explore more complex ones in the future."
   ]
  },
  {
   "cell_type": "markdown",
   "metadata": {},
   "source": [
    "$$\n",
    "\\begin{equation}\n",
    "\\phi(x) = 0.5 \\left( 1-cos \\left( \\frac{2 \\pi x}{L} \\right) \\right)\n",
    "\\end{equation}\n",
    "$$"
   ]
  },
  {
   "cell_type": "code",
   "execution_count": 70,
   "metadata": {},
   "outputs": [
    {
     "data": {
      "text/plain": [
       "shapef (generic function with 1 method)"
      ]
     },
     "execution_count": 70,
     "metadata": {},
     "output_type": "execute_result"
    }
   ],
   "source": [
    "shapef(x::Float64) = 0.5 * (1 - cos(2πx/L))"
   ]
  },
  {
   "cell_type": "markdown",
   "metadata": {},
   "source": [
    "The first and second derivatives can then be computed using automatic differentiation as:"
   ]
  },
  {
   "cell_type": "code",
   "execution_count": 71,
   "metadata": {},
   "outputs": [
    {
     "data": {
      "text/plain": [
       "#5 (generic function with 1 method)"
      ]
     },
     "execution_count": 71,
     "metadata": {},
     "output_type": "execute_result"
    }
   ],
   "source": [
    "using ForwardDiff\n",
    "\n",
    "shapef_once = x -> ForwardDiff.gradient(shapef, x)\n",
    "shapef_twice = x -> FowwardDiff.gradient(shapef_once, x)"
   ]
  },
  {
   "cell_type": "markdown",
   "metadata": {},
   "source": [
    "Now we can can  the excitation force. We can assume that a blast load of 5 MPa has been applied of the top of the beam for 15 ms with a linearly decreasing magnitude."
   ]
  },
  {
   "cell_type": "code",
   "execution_count": 73,
   "metadata": {},
   "outputs": [
    {
     "data": {
      "text/plain": [
       "blast_load (generic function with 1 method)"
      ]
     },
     "execution_count": 73,
     "metadata": {},
     "output_type": "execute_result"
    }
   ],
   "source": [
    "function blast_load(t::Float64)\n",
    "    if t <= 0.015\n",
    "        return 5. * (0.015 - t)\n",
    "    else\n",
    "        return 0.\n",
    "    end\n",
    "end"
   ]
  },
  {
   "cell_type": "markdown",
   "metadata": {},
   "source": [
    "$$\n",
    "\\begin{equation}\n",
    "\\bar{f}(t) = \\int_L^0 q(t) \\phi(x) dx\n",
    "\\end{equation}\n",
    "$$"
   ]
  },
  {
   "cell_type": "markdown",
   "metadata": {},
   "source": [
    "$$\n",
    "\\begin{equation}\n",
    "\\bar{m} = \\int_L^0 m \\phi (x)^2 dx\n",
    "\\end{equation}\n",
    "$$"
   ]
  },
  {
   "cell_type": "markdown",
   "metadata": {},
   "source": [
    "$$\n",
    "\\begin{equation}\n",
    "\\bar{k} = \\int_L^0 EI \\frac{d^2 \\phi}{d x^2} dx\n",
    "\\end{equation}\n",
    "$$"
   ]
  },
  {
   "cell_type": "code",
   "execution_count": null,
   "metadata": {},
   "outputs": [],
   "source": []
  }
 ],
 "metadata": {
  "@webio": {
   "lastCommId": "EBE98CC8D76C4794AB4109B4D61EE603",
   "lastKernelId": "192472cb-5a25-44a9-a1b6-5565774f8af3"
  },
  "kernelspec": {
   "display_name": "Julia 1.1.0",
   "language": "julia",
   "name": "julia-1.1"
  },
  "language_info": {
   "file_extension": ".jl",
   "mimetype": "application/julia",
   "name": "julia",
   "version": "1.1.0"
  }
 },
 "nbformat": 4,
 "nbformat_minor": 2
}
